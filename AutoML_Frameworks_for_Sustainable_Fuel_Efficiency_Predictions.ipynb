{
  "nbformat": 4,
  "nbformat_minor": 0,
  "metadata": {
    "colab": {
      "provenance": [],
      "gpuType": "T4",
      "authorship_tag": "ABX9TyPtzq+bxBvcA/07aBPGthiq",
      "include_colab_link": true
    },
    "kernelspec": {
      "name": "python3",
      "display_name": "Python 3"
    },
    "language_info": {
      "name": "python"
    },
    "accelerator": "GPU",
    "widgets": {
      "application/vnd.jupyter.widget-state+json": {
        "1f8aac5ce1804659a69ca0672696c007": {
          "model_module": "@jupyter-widgets/controls",
          "model_name": "HBoxModel",
          "model_module_version": "1.5.0",
          "state": {
            "_dom_classes": [],
            "_model_module": "@jupyter-widgets/controls",
            "_model_module_version": "1.5.0",
            "_model_name": "HBoxModel",
            "_view_count": null,
            "_view_module": "@jupyter-widgets/controls",
            "_view_module_version": "1.5.0",
            "_view_name": "HBoxView",
            "box_style": "",
            "children": [
              "IPY_MODEL_3b893cfd0e8f499ca74a82a98d1e0f68",
              "IPY_MODEL_38d93d2f06d04678bd0ec989f6f0c606",
              "IPY_MODEL_29c14cc263424fa783e7a26614bcf3c9"
            ],
            "layout": "IPY_MODEL_8279df79723b46db83fb6a56259ceca7"
          }
        },
        "3b893cfd0e8f499ca74a82a98d1e0f68": {
          "model_module": "@jupyter-widgets/controls",
          "model_name": "HTMLModel",
          "model_module_version": "1.5.0",
          "state": {
            "_dom_classes": [],
            "_model_module": "@jupyter-widgets/controls",
            "_model_module_version": "1.5.0",
            "_model_name": "HTMLModel",
            "_view_count": null,
            "_view_module": "@jupyter-widgets/controls",
            "_view_module_version": "1.5.0",
            "_view_name": "HTMLView",
            "description": "",
            "description_tooltip": null,
            "layout": "IPY_MODEL_363f0ed02ab245dab2528f4088be6fcd",
            "placeholder": "​",
            "style": "IPY_MODEL_91af2611d8e6419790293ec7f177a1c4",
            "value": "Processing: 100%"
          }
        },
        "38d93d2f06d04678bd0ec989f6f0c606": {
          "model_module": "@jupyter-widgets/controls",
          "model_name": "FloatProgressModel",
          "model_module_version": "1.5.0",
          "state": {
            "_dom_classes": [],
            "_model_module": "@jupyter-widgets/controls",
            "_model_module_version": "1.5.0",
            "_model_name": "FloatProgressModel",
            "_view_count": null,
            "_view_module": "@jupyter-widgets/controls",
            "_view_module_version": "1.5.0",
            "_view_name": "ProgressView",
            "bar_style": "",
            "description": "",
            "description_tooltip": null,
            "layout": "IPY_MODEL_1c765f150c0447a7a5417e59367272d5",
            "max": 81,
            "min": 0,
            "orientation": "horizontal",
            "style": "IPY_MODEL_691e79f11f1b46e68f39473f40cee0ad",
            "value": 81
          }
        },
        "29c14cc263424fa783e7a26614bcf3c9": {
          "model_module": "@jupyter-widgets/controls",
          "model_name": "HTMLModel",
          "model_module_version": "1.5.0",
          "state": {
            "_dom_classes": [],
            "_model_module": "@jupyter-widgets/controls",
            "_model_module_version": "1.5.0",
            "_model_name": "HTMLModel",
            "_view_count": null,
            "_view_module": "@jupyter-widgets/controls",
            "_view_module_version": "1.5.0",
            "_view_name": "HTMLView",
            "description": "",
            "description_tooltip": null,
            "layout": "IPY_MODEL_7fb4dc8ba4ed4fcea4bc99537bddfe2b",
            "placeholder": "​",
            "style": "IPY_MODEL_a54b56199d7a4961a2e2ef778e1328ce",
            "value": " 81/81 [00:25&lt;00:00,  4.96it/s]"
          }
        },
        "8279df79723b46db83fb6a56259ceca7": {
          "model_module": "@jupyter-widgets/base",
          "model_name": "LayoutModel",
          "model_module_version": "1.2.0",
          "state": {
            "_model_module": "@jupyter-widgets/base",
            "_model_module_version": "1.2.0",
            "_model_name": "LayoutModel",
            "_view_count": null,
            "_view_module": "@jupyter-widgets/base",
            "_view_module_version": "1.2.0",
            "_view_name": "LayoutView",
            "align_content": null,
            "align_items": null,
            "align_self": null,
            "border": null,
            "bottom": null,
            "display": null,
            "flex": null,
            "flex_flow": null,
            "grid_area": null,
            "grid_auto_columns": null,
            "grid_auto_flow": null,
            "grid_auto_rows": null,
            "grid_column": null,
            "grid_gap": null,
            "grid_row": null,
            "grid_template_areas": null,
            "grid_template_columns": null,
            "grid_template_rows": null,
            "height": null,
            "justify_content": null,
            "justify_items": null,
            "left": null,
            "margin": null,
            "max_height": null,
            "max_width": null,
            "min_height": null,
            "min_width": null,
            "object_fit": null,
            "object_position": null,
            "order": null,
            "overflow": null,
            "overflow_x": null,
            "overflow_y": null,
            "padding": null,
            "right": null,
            "top": null,
            "visibility": "hidden",
            "width": null
          }
        },
        "363f0ed02ab245dab2528f4088be6fcd": {
          "model_module": "@jupyter-widgets/base",
          "model_name": "LayoutModel",
          "model_module_version": "1.2.0",
          "state": {
            "_model_module": "@jupyter-widgets/base",
            "_model_module_version": "1.2.0",
            "_model_name": "LayoutModel",
            "_view_count": null,
            "_view_module": "@jupyter-widgets/base",
            "_view_module_version": "1.2.0",
            "_view_name": "LayoutView",
            "align_content": null,
            "align_items": null,
            "align_self": null,
            "border": null,
            "bottom": null,
            "display": null,
            "flex": null,
            "flex_flow": null,
            "grid_area": null,
            "grid_auto_columns": null,
            "grid_auto_flow": null,
            "grid_auto_rows": null,
            "grid_column": null,
            "grid_gap": null,
            "grid_row": null,
            "grid_template_areas": null,
            "grid_template_columns": null,
            "grid_template_rows": null,
            "height": null,
            "justify_content": null,
            "justify_items": null,
            "left": null,
            "margin": null,
            "max_height": null,
            "max_width": null,
            "min_height": null,
            "min_width": null,
            "object_fit": null,
            "object_position": null,
            "order": null,
            "overflow": null,
            "overflow_x": null,
            "overflow_y": null,
            "padding": null,
            "right": null,
            "top": null,
            "visibility": null,
            "width": null
          }
        },
        "91af2611d8e6419790293ec7f177a1c4": {
          "model_module": "@jupyter-widgets/controls",
          "model_name": "DescriptionStyleModel",
          "model_module_version": "1.5.0",
          "state": {
            "_model_module": "@jupyter-widgets/controls",
            "_model_module_version": "1.5.0",
            "_model_name": "DescriptionStyleModel",
            "_view_count": null,
            "_view_module": "@jupyter-widgets/base",
            "_view_module_version": "1.2.0",
            "_view_name": "StyleView",
            "description_width": ""
          }
        },
        "1c765f150c0447a7a5417e59367272d5": {
          "model_module": "@jupyter-widgets/base",
          "model_name": "LayoutModel",
          "model_module_version": "1.2.0",
          "state": {
            "_model_module": "@jupyter-widgets/base",
            "_model_module_version": "1.2.0",
            "_model_name": "LayoutModel",
            "_view_count": null,
            "_view_module": "@jupyter-widgets/base",
            "_view_module_version": "1.2.0",
            "_view_name": "LayoutView",
            "align_content": null,
            "align_items": null,
            "align_self": null,
            "border": null,
            "bottom": null,
            "display": null,
            "flex": null,
            "flex_flow": null,
            "grid_area": null,
            "grid_auto_columns": null,
            "grid_auto_flow": null,
            "grid_auto_rows": null,
            "grid_column": null,
            "grid_gap": null,
            "grid_row": null,
            "grid_template_areas": null,
            "grid_template_columns": null,
            "grid_template_rows": null,
            "height": null,
            "justify_content": null,
            "justify_items": null,
            "left": null,
            "margin": null,
            "max_height": null,
            "max_width": null,
            "min_height": null,
            "min_width": null,
            "object_fit": null,
            "object_position": null,
            "order": null,
            "overflow": null,
            "overflow_x": null,
            "overflow_y": null,
            "padding": null,
            "right": null,
            "top": null,
            "visibility": null,
            "width": null
          }
        },
        "691e79f11f1b46e68f39473f40cee0ad": {
          "model_module": "@jupyter-widgets/controls",
          "model_name": "ProgressStyleModel",
          "model_module_version": "1.5.0",
          "state": {
            "_model_module": "@jupyter-widgets/controls",
            "_model_module_version": "1.5.0",
            "_model_name": "ProgressStyleModel",
            "_view_count": null,
            "_view_module": "@jupyter-widgets/base",
            "_view_module_version": "1.2.0",
            "_view_name": "StyleView",
            "bar_color": null,
            "description_width": ""
          }
        },
        "7fb4dc8ba4ed4fcea4bc99537bddfe2b": {
          "model_module": "@jupyter-widgets/base",
          "model_name": "LayoutModel",
          "model_module_version": "1.2.0",
          "state": {
            "_model_module": "@jupyter-widgets/base",
            "_model_module_version": "1.2.0",
            "_model_name": "LayoutModel",
            "_view_count": null,
            "_view_module": "@jupyter-widgets/base",
            "_view_module_version": "1.2.0",
            "_view_name": "LayoutView",
            "align_content": null,
            "align_items": null,
            "align_self": null,
            "border": null,
            "bottom": null,
            "display": null,
            "flex": null,
            "flex_flow": null,
            "grid_area": null,
            "grid_auto_columns": null,
            "grid_auto_flow": null,
            "grid_auto_rows": null,
            "grid_column": null,
            "grid_gap": null,
            "grid_row": null,
            "grid_template_areas": null,
            "grid_template_columns": null,
            "grid_template_rows": null,
            "height": null,
            "justify_content": null,
            "justify_items": null,
            "left": null,
            "margin": null,
            "max_height": null,
            "max_width": null,
            "min_height": null,
            "min_width": null,
            "object_fit": null,
            "object_position": null,
            "order": null,
            "overflow": null,
            "overflow_x": null,
            "overflow_y": null,
            "padding": null,
            "right": null,
            "top": null,
            "visibility": null,
            "width": null
          }
        },
        "a54b56199d7a4961a2e2ef778e1328ce": {
          "model_module": "@jupyter-widgets/controls",
          "model_name": "DescriptionStyleModel",
          "model_module_version": "1.5.0",
          "state": {
            "_model_module": "@jupyter-widgets/controls",
            "_model_module_version": "1.5.0",
            "_model_name": "DescriptionStyleModel",
            "_view_count": null,
            "_view_module": "@jupyter-widgets/base",
            "_view_module_version": "1.2.0",
            "_view_name": "StyleView",
            "description_width": ""
          }
        },
        "0cefcc886f4d48cb88ee06308e4d123e": {
          "model_module": "@jupyter-widgets/controls",
          "model_name": "HBoxModel",
          "model_module_version": "1.5.0",
          "state": {
            "_dom_classes": [],
            "_model_module": "@jupyter-widgets/controls",
            "_model_module_version": "1.5.0",
            "_model_name": "HBoxModel",
            "_view_count": null,
            "_view_module": "@jupyter-widgets/controls",
            "_view_module_version": "1.5.0",
            "_view_name": "HBoxView",
            "box_style": "",
            "children": [
              "IPY_MODEL_c08b9dde686f4d23ab07438b66a0ac48",
              "IPY_MODEL_9820f8c7555e4505b82e10d5f05f0f95",
              "IPY_MODEL_2e3796e6825144c4981c47aa1e92fee6"
            ],
            "layout": "IPY_MODEL_cf9aa7d1cdc54131842522784866faff"
          }
        },
        "c08b9dde686f4d23ab07438b66a0ac48": {
          "model_module": "@jupyter-widgets/controls",
          "model_name": "HTMLModel",
          "model_module_version": "1.5.0",
          "state": {
            "_dom_classes": [],
            "_model_module": "@jupyter-widgets/controls",
            "_model_module_version": "1.5.0",
            "_model_name": "HTMLModel",
            "_view_count": null,
            "_view_module": "@jupyter-widgets/controls",
            "_view_module_version": "1.5.0",
            "_view_name": "HTMLView",
            "description": "",
            "description_tooltip": null,
            "layout": "IPY_MODEL_21b8dcac66214d18bb2be66dd307fb0c",
            "placeholder": "​",
            "style": "IPY_MODEL_70f884ebd5ec431588a4d0fd39d76198",
            "value": "Processing: 100%"
          }
        },
        "9820f8c7555e4505b82e10d5f05f0f95": {
          "model_module": "@jupyter-widgets/controls",
          "model_name": "FloatProgressModel",
          "model_module_version": "1.5.0",
          "state": {
            "_dom_classes": [],
            "_model_module": "@jupyter-widgets/controls",
            "_model_module_version": "1.5.0",
            "_model_name": "FloatProgressModel",
            "_view_count": null,
            "_view_module": "@jupyter-widgets/controls",
            "_view_module_version": "1.5.0",
            "_view_name": "ProgressView",
            "bar_style": "",
            "description": "",
            "description_tooltip": null,
            "layout": "IPY_MODEL_b8e7c21827eb4ffbbea313c864565375",
            "max": 4,
            "min": 0,
            "orientation": "horizontal",
            "style": "IPY_MODEL_4eecadfa9c33438f8af6e336e6adb965",
            "value": 4
          }
        },
        "2e3796e6825144c4981c47aa1e92fee6": {
          "model_module": "@jupyter-widgets/controls",
          "model_name": "HTMLModel",
          "model_module_version": "1.5.0",
          "state": {
            "_dom_classes": [],
            "_model_module": "@jupyter-widgets/controls",
            "_model_module_version": "1.5.0",
            "_model_name": "HTMLModel",
            "_view_count": null,
            "_view_module": "@jupyter-widgets/controls",
            "_view_module_version": "1.5.0",
            "_view_name": "HTMLView",
            "description": "",
            "description_tooltip": null,
            "layout": "IPY_MODEL_1a4eebd42cb44ee9a5774718796a8475",
            "placeholder": "​",
            "style": "IPY_MODEL_d6bae0d946e740a49f673649d6624320",
            "value": " 4/4 [00:01&lt;00:00,  2.45it/s]"
          }
        },
        "cf9aa7d1cdc54131842522784866faff": {
          "model_module": "@jupyter-widgets/base",
          "model_name": "LayoutModel",
          "model_module_version": "1.2.0",
          "state": {
            "_model_module": "@jupyter-widgets/base",
            "_model_module_version": "1.2.0",
            "_model_name": "LayoutModel",
            "_view_count": null,
            "_view_module": "@jupyter-widgets/base",
            "_view_module_version": "1.2.0",
            "_view_name": "LayoutView",
            "align_content": null,
            "align_items": null,
            "align_self": null,
            "border": null,
            "bottom": null,
            "display": null,
            "flex": null,
            "flex_flow": null,
            "grid_area": null,
            "grid_auto_columns": null,
            "grid_auto_flow": null,
            "grid_auto_rows": null,
            "grid_column": null,
            "grid_gap": null,
            "grid_row": null,
            "grid_template_areas": null,
            "grid_template_columns": null,
            "grid_template_rows": null,
            "height": null,
            "justify_content": null,
            "justify_items": null,
            "left": null,
            "margin": null,
            "max_height": null,
            "max_width": null,
            "min_height": null,
            "min_width": null,
            "object_fit": null,
            "object_position": null,
            "order": null,
            "overflow": null,
            "overflow_x": null,
            "overflow_y": null,
            "padding": null,
            "right": null,
            "top": null,
            "visibility": "hidden",
            "width": null
          }
        },
        "21b8dcac66214d18bb2be66dd307fb0c": {
          "model_module": "@jupyter-widgets/base",
          "model_name": "LayoutModel",
          "model_module_version": "1.2.0",
          "state": {
            "_model_module": "@jupyter-widgets/base",
            "_model_module_version": "1.2.0",
            "_model_name": "LayoutModel",
            "_view_count": null,
            "_view_module": "@jupyter-widgets/base",
            "_view_module_version": "1.2.0",
            "_view_name": "LayoutView",
            "align_content": null,
            "align_items": null,
            "align_self": null,
            "border": null,
            "bottom": null,
            "display": null,
            "flex": null,
            "flex_flow": null,
            "grid_area": null,
            "grid_auto_columns": null,
            "grid_auto_flow": null,
            "grid_auto_rows": null,
            "grid_column": null,
            "grid_gap": null,
            "grid_row": null,
            "grid_template_areas": null,
            "grid_template_columns": null,
            "grid_template_rows": null,
            "height": null,
            "justify_content": null,
            "justify_items": null,
            "left": null,
            "margin": null,
            "max_height": null,
            "max_width": null,
            "min_height": null,
            "min_width": null,
            "object_fit": null,
            "object_position": null,
            "order": null,
            "overflow": null,
            "overflow_x": null,
            "overflow_y": null,
            "padding": null,
            "right": null,
            "top": null,
            "visibility": null,
            "width": null
          }
        },
        "70f884ebd5ec431588a4d0fd39d76198": {
          "model_module": "@jupyter-widgets/controls",
          "model_name": "DescriptionStyleModel",
          "model_module_version": "1.5.0",
          "state": {
            "_model_module": "@jupyter-widgets/controls",
            "_model_module_version": "1.5.0",
            "_model_name": "DescriptionStyleModel",
            "_view_count": null,
            "_view_module": "@jupyter-widgets/base",
            "_view_module_version": "1.2.0",
            "_view_name": "StyleView",
            "description_width": ""
          }
        },
        "b8e7c21827eb4ffbbea313c864565375": {
          "model_module": "@jupyter-widgets/base",
          "model_name": "LayoutModel",
          "model_module_version": "1.2.0",
          "state": {
            "_model_module": "@jupyter-widgets/base",
            "_model_module_version": "1.2.0",
            "_model_name": "LayoutModel",
            "_view_count": null,
            "_view_module": "@jupyter-widgets/base",
            "_view_module_version": "1.2.0",
            "_view_name": "LayoutView",
            "align_content": null,
            "align_items": null,
            "align_self": null,
            "border": null,
            "bottom": null,
            "display": null,
            "flex": null,
            "flex_flow": null,
            "grid_area": null,
            "grid_auto_columns": null,
            "grid_auto_flow": null,
            "grid_auto_rows": null,
            "grid_column": null,
            "grid_gap": null,
            "grid_row": null,
            "grid_template_areas": null,
            "grid_template_columns": null,
            "grid_template_rows": null,
            "height": null,
            "justify_content": null,
            "justify_items": null,
            "left": null,
            "margin": null,
            "max_height": null,
            "max_width": null,
            "min_height": null,
            "min_width": null,
            "object_fit": null,
            "object_position": null,
            "order": null,
            "overflow": null,
            "overflow_x": null,
            "overflow_y": null,
            "padding": null,
            "right": null,
            "top": null,
            "visibility": null,
            "width": null
          }
        },
        "4eecadfa9c33438f8af6e336e6adb965": {
          "model_module": "@jupyter-widgets/controls",
          "model_name": "ProgressStyleModel",
          "model_module_version": "1.5.0",
          "state": {
            "_model_module": "@jupyter-widgets/controls",
            "_model_module_version": "1.5.0",
            "_model_name": "ProgressStyleModel",
            "_view_count": null,
            "_view_module": "@jupyter-widgets/base",
            "_view_module_version": "1.2.0",
            "_view_name": "StyleView",
            "bar_color": null,
            "description_width": ""
          }
        },
        "1a4eebd42cb44ee9a5774718796a8475": {
          "model_module": "@jupyter-widgets/base",
          "model_name": "LayoutModel",
          "model_module_version": "1.2.0",
          "state": {
            "_model_module": "@jupyter-widgets/base",
            "_model_module_version": "1.2.0",
            "_model_name": "LayoutModel",
            "_view_count": null,
            "_view_module": "@jupyter-widgets/base",
            "_view_module_version": "1.2.0",
            "_view_name": "LayoutView",
            "align_content": null,
            "align_items": null,
            "align_self": null,
            "border": null,
            "bottom": null,
            "display": null,
            "flex": null,
            "flex_flow": null,
            "grid_area": null,
            "grid_auto_columns": null,
            "grid_auto_flow": null,
            "grid_auto_rows": null,
            "grid_column": null,
            "grid_gap": null,
            "grid_row": null,
            "grid_template_areas": null,
            "grid_template_columns": null,
            "grid_template_rows": null,
            "height": null,
            "justify_content": null,
            "justify_items": null,
            "left": null,
            "margin": null,
            "max_height": null,
            "max_width": null,
            "min_height": null,
            "min_width": null,
            "object_fit": null,
            "object_position": null,
            "order": null,
            "overflow": null,
            "overflow_x": null,
            "overflow_y": null,
            "padding": null,
            "right": null,
            "top": null,
            "visibility": null,
            "width": null
          }
        },
        "d6bae0d946e740a49f673649d6624320": {
          "model_module": "@jupyter-widgets/controls",
          "model_name": "DescriptionStyleModel",
          "model_module_version": "1.5.0",
          "state": {
            "_model_module": "@jupyter-widgets/controls",
            "_model_module_version": "1.5.0",
            "_model_name": "DescriptionStyleModel",
            "_view_count": null,
            "_view_module": "@jupyter-widgets/base",
            "_view_module_version": "1.2.0",
            "_view_name": "StyleView",
            "description_width": ""
          }
        },
        "b50e3c71c9f54a3c9e920838abd7ebdb": {
          "model_module": "@jupyter-widgets/controls",
          "model_name": "HBoxModel",
          "model_module_version": "1.5.0",
          "state": {
            "_dom_classes": [],
            "_model_module": "@jupyter-widgets/controls",
            "_model_module_version": "1.5.0",
            "_model_name": "HBoxModel",
            "_view_count": null,
            "_view_module": "@jupyter-widgets/controls",
            "_view_module_version": "1.5.0",
            "_view_name": "HBoxView",
            "box_style": "",
            "children": [
              "IPY_MODEL_ccb658814b3d4c98928bc072c2232150",
              "IPY_MODEL_c110f6967e0146d28bb32e3e6e76e3ed",
              "IPY_MODEL_30123846ae7c439fb7768bec5715ef76"
            ],
            "layout": "IPY_MODEL_cf71716519474247bd2b0fd610f8fe5e"
          }
        },
        "ccb658814b3d4c98928bc072c2232150": {
          "model_module": "@jupyter-widgets/controls",
          "model_name": "HTMLModel",
          "model_module_version": "1.5.0",
          "state": {
            "_dom_classes": [],
            "_model_module": "@jupyter-widgets/controls",
            "_model_module_version": "1.5.0",
            "_model_name": "HTMLModel",
            "_view_count": null,
            "_view_module": "@jupyter-widgets/controls",
            "_view_module_version": "1.5.0",
            "_view_name": "HTMLView",
            "description": "",
            "description_tooltip": null,
            "layout": "IPY_MODEL_c91420bd1b8b469696b836af49cc17e4",
            "placeholder": "​",
            "style": "IPY_MODEL_0ea9d76120a04930814ffda7a06184a0",
            "value": "Processing: 100%"
          }
        },
        "c110f6967e0146d28bb32e3e6e76e3ed": {
          "model_module": "@jupyter-widgets/controls",
          "model_name": "FloatProgressModel",
          "model_module_version": "1.5.0",
          "state": {
            "_dom_classes": [],
            "_model_module": "@jupyter-widgets/controls",
            "_model_module_version": "1.5.0",
            "_model_name": "FloatProgressModel",
            "_view_count": null,
            "_view_module": "@jupyter-widgets/controls",
            "_view_module_version": "1.5.0",
            "_view_name": "ProgressView",
            "bar_style": "",
            "description": "",
            "description_tooltip": null,
            "layout": "IPY_MODEL_888aa0b8fe914e059e6a35a3119154f9",
            "max": 7,
            "min": 0,
            "orientation": "horizontal",
            "style": "IPY_MODEL_e842ba1034df4a3a9d51832fbe29d9e2",
            "value": 7
          }
        },
        "30123846ae7c439fb7768bec5715ef76": {
          "model_module": "@jupyter-widgets/controls",
          "model_name": "HTMLModel",
          "model_module_version": "1.5.0",
          "state": {
            "_dom_classes": [],
            "_model_module": "@jupyter-widgets/controls",
            "_model_module_version": "1.5.0",
            "_model_name": "HTMLModel",
            "_view_count": null,
            "_view_module": "@jupyter-widgets/controls",
            "_view_module_version": "1.5.0",
            "_view_name": "HTMLView",
            "description": "",
            "description_tooltip": null,
            "layout": "IPY_MODEL_c72e1ea3480e4889868bbf647a5d3849",
            "placeholder": "​",
            "style": "IPY_MODEL_909bf0ca265c4605b6fade6864fe4901",
            "value": " 7/7 [00:23&lt;00:00,  2.75s/it]"
          }
        },
        "cf71716519474247bd2b0fd610f8fe5e": {
          "model_module": "@jupyter-widgets/base",
          "model_name": "LayoutModel",
          "model_module_version": "1.2.0",
          "state": {
            "_model_module": "@jupyter-widgets/base",
            "_model_module_version": "1.2.0",
            "_model_name": "LayoutModel",
            "_view_count": null,
            "_view_module": "@jupyter-widgets/base",
            "_view_module_version": "1.2.0",
            "_view_name": "LayoutView",
            "align_content": null,
            "align_items": null,
            "align_self": null,
            "border": null,
            "bottom": null,
            "display": null,
            "flex": null,
            "flex_flow": null,
            "grid_area": null,
            "grid_auto_columns": null,
            "grid_auto_flow": null,
            "grid_auto_rows": null,
            "grid_column": null,
            "grid_gap": null,
            "grid_row": null,
            "grid_template_areas": null,
            "grid_template_columns": null,
            "grid_template_rows": null,
            "height": null,
            "justify_content": null,
            "justify_items": null,
            "left": null,
            "margin": null,
            "max_height": null,
            "max_width": null,
            "min_height": null,
            "min_width": null,
            "object_fit": null,
            "object_position": null,
            "order": null,
            "overflow": null,
            "overflow_x": null,
            "overflow_y": null,
            "padding": null,
            "right": null,
            "top": null,
            "visibility": "hidden",
            "width": null
          }
        },
        "c91420bd1b8b469696b836af49cc17e4": {
          "model_module": "@jupyter-widgets/base",
          "model_name": "LayoutModel",
          "model_module_version": "1.2.0",
          "state": {
            "_model_module": "@jupyter-widgets/base",
            "_model_module_version": "1.2.0",
            "_model_name": "LayoutModel",
            "_view_count": null,
            "_view_module": "@jupyter-widgets/base",
            "_view_module_version": "1.2.0",
            "_view_name": "LayoutView",
            "align_content": null,
            "align_items": null,
            "align_self": null,
            "border": null,
            "bottom": null,
            "display": null,
            "flex": null,
            "flex_flow": null,
            "grid_area": null,
            "grid_auto_columns": null,
            "grid_auto_flow": null,
            "grid_auto_rows": null,
            "grid_column": null,
            "grid_gap": null,
            "grid_row": null,
            "grid_template_areas": null,
            "grid_template_columns": null,
            "grid_template_rows": null,
            "height": null,
            "justify_content": null,
            "justify_items": null,
            "left": null,
            "margin": null,
            "max_height": null,
            "max_width": null,
            "min_height": null,
            "min_width": null,
            "object_fit": null,
            "object_position": null,
            "order": null,
            "overflow": null,
            "overflow_x": null,
            "overflow_y": null,
            "padding": null,
            "right": null,
            "top": null,
            "visibility": null,
            "width": null
          }
        },
        "0ea9d76120a04930814ffda7a06184a0": {
          "model_module": "@jupyter-widgets/controls",
          "model_name": "DescriptionStyleModel",
          "model_module_version": "1.5.0",
          "state": {
            "_model_module": "@jupyter-widgets/controls",
            "_model_module_version": "1.5.0",
            "_model_name": "DescriptionStyleModel",
            "_view_count": null,
            "_view_module": "@jupyter-widgets/base",
            "_view_module_version": "1.2.0",
            "_view_name": "StyleView",
            "description_width": ""
          }
        },
        "888aa0b8fe914e059e6a35a3119154f9": {
          "model_module": "@jupyter-widgets/base",
          "model_name": "LayoutModel",
          "model_module_version": "1.2.0",
          "state": {
            "_model_module": "@jupyter-widgets/base",
            "_model_module_version": "1.2.0",
            "_model_name": "LayoutModel",
            "_view_count": null,
            "_view_module": "@jupyter-widgets/base",
            "_view_module_version": "1.2.0",
            "_view_name": "LayoutView",
            "align_content": null,
            "align_items": null,
            "align_self": null,
            "border": null,
            "bottom": null,
            "display": null,
            "flex": null,
            "flex_flow": null,
            "grid_area": null,
            "grid_auto_columns": null,
            "grid_auto_flow": null,
            "grid_auto_rows": null,
            "grid_column": null,
            "grid_gap": null,
            "grid_row": null,
            "grid_template_areas": null,
            "grid_template_columns": null,
            "grid_template_rows": null,
            "height": null,
            "justify_content": null,
            "justify_items": null,
            "left": null,
            "margin": null,
            "max_height": null,
            "max_width": null,
            "min_height": null,
            "min_width": null,
            "object_fit": null,
            "object_position": null,
            "order": null,
            "overflow": null,
            "overflow_x": null,
            "overflow_y": null,
            "padding": null,
            "right": null,
            "top": null,
            "visibility": null,
            "width": null
          }
        },
        "e842ba1034df4a3a9d51832fbe29d9e2": {
          "model_module": "@jupyter-widgets/controls",
          "model_name": "ProgressStyleModel",
          "model_module_version": "1.5.0",
          "state": {
            "_model_module": "@jupyter-widgets/controls",
            "_model_module_version": "1.5.0",
            "_model_name": "ProgressStyleModel",
            "_view_count": null,
            "_view_module": "@jupyter-widgets/base",
            "_view_module_version": "1.2.0",
            "_view_name": "StyleView",
            "bar_color": null,
            "description_width": ""
          }
        },
        "c72e1ea3480e4889868bbf647a5d3849": {
          "model_module": "@jupyter-widgets/base",
          "model_name": "LayoutModel",
          "model_module_version": "1.2.0",
          "state": {
            "_model_module": "@jupyter-widgets/base",
            "_model_module_version": "1.2.0",
            "_model_name": "LayoutModel",
            "_view_count": null,
            "_view_module": "@jupyter-widgets/base",
            "_view_module_version": "1.2.0",
            "_view_name": "LayoutView",
            "align_content": null,
            "align_items": null,
            "align_self": null,
            "border": null,
            "bottom": null,
            "display": null,
            "flex": null,
            "flex_flow": null,
            "grid_area": null,
            "grid_auto_columns": null,
            "grid_auto_flow": null,
            "grid_auto_rows": null,
            "grid_column": null,
            "grid_gap": null,
            "grid_row": null,
            "grid_template_areas": null,
            "grid_template_columns": null,
            "grid_template_rows": null,
            "height": null,
            "justify_content": null,
            "justify_items": null,
            "left": null,
            "margin": null,
            "max_height": null,
            "max_width": null,
            "min_height": null,
            "min_width": null,
            "object_fit": null,
            "object_position": null,
            "order": null,
            "overflow": null,
            "overflow_x": null,
            "overflow_y": null,
            "padding": null,
            "right": null,
            "top": null,
            "visibility": null,
            "width": null
          }
        },
        "909bf0ca265c4605b6fade6864fe4901": {
          "model_module": "@jupyter-widgets/controls",
          "model_name": "DescriptionStyleModel",
          "model_module_version": "1.5.0",
          "state": {
            "_model_module": "@jupyter-widgets/controls",
            "_model_module_version": "1.5.0",
            "_model_name": "DescriptionStyleModel",
            "_view_count": null,
            "_view_module": "@jupyter-widgets/base",
            "_view_module_version": "1.2.0",
            "_view_name": "StyleView",
            "description_width": ""
          }
        },
        "35bb685d492d4d1f8de991f5914c540f": {
          "model_module": "@jupyter-widgets/controls",
          "model_name": "HBoxModel",
          "model_module_version": "1.5.0",
          "state": {
            "_dom_classes": [],
            "_model_module": "@jupyter-widgets/controls",
            "_model_module_version": "1.5.0",
            "_model_name": "HBoxModel",
            "_view_count": null,
            "_view_module": "@jupyter-widgets/controls",
            "_view_module_version": "1.5.0",
            "_view_name": "HBoxView",
            "box_style": "",
            "children": [
              "IPY_MODEL_15d2b94ad785498992f4406660895f25",
              "IPY_MODEL_31bd2824c739480cbd281945e4576c5a",
              "IPY_MODEL_71935f6bd32640e3a52e6ae5b5ebd856"
            ],
            "layout": "IPY_MODEL_7c0c1efe06dc4569912137a83741c4cc"
          }
        },
        "15d2b94ad785498992f4406660895f25": {
          "model_module": "@jupyter-widgets/controls",
          "model_name": "HTMLModel",
          "model_module_version": "1.5.0",
          "state": {
            "_dom_classes": [],
            "_model_module": "@jupyter-widgets/controls",
            "_model_module_version": "1.5.0",
            "_model_name": "HTMLModel",
            "_view_count": null,
            "_view_module": "@jupyter-widgets/controls",
            "_view_module_version": "1.5.0",
            "_view_name": "HTMLView",
            "description": "",
            "description_tooltip": null,
            "layout": "IPY_MODEL_ed6caf5ba73c4b8d9502fef83c128a22",
            "placeholder": "​",
            "style": "IPY_MODEL_3453fbb14fa64d2c98ea2a7e6ec79279",
            "value": "Optimization Progress: 100%"
          }
        },
        "31bd2824c739480cbd281945e4576c5a": {
          "model_module": "@jupyter-widgets/controls",
          "model_name": "FloatProgressModel",
          "model_module_version": "1.5.0",
          "state": {
            "_dom_classes": [],
            "_model_module": "@jupyter-widgets/controls",
            "_model_module_version": "1.5.0",
            "_model_name": "FloatProgressModel",
            "_view_count": null,
            "_view_module": "@jupyter-widgets/controls",
            "_view_module_version": "1.5.0",
            "_view_name": "ProgressView",
            "bar_style": "",
            "description": "",
            "description_tooltip": null,
            "layout": "IPY_MODEL_ec6d06b88739432a8650ddac27dc471d",
            "max": 300,
            "min": 0,
            "orientation": "horizontal",
            "style": "IPY_MODEL_31bdeada92424917be8e3e569472bd65",
            "value": 300
          }
        },
        "71935f6bd32640e3a52e6ae5b5ebd856": {
          "model_module": "@jupyter-widgets/controls",
          "model_name": "HTMLModel",
          "model_module_version": "1.5.0",
          "state": {
            "_dom_classes": [],
            "_model_module": "@jupyter-widgets/controls",
            "_model_module_version": "1.5.0",
            "_model_name": "HTMLModel",
            "_view_count": null,
            "_view_module": "@jupyter-widgets/controls",
            "_view_module_version": "1.5.0",
            "_view_name": "HTMLView",
            "description": "",
            "description_tooltip": null,
            "layout": "IPY_MODEL_de1ceade35da4965b81b5f517583b51e",
            "placeholder": "​",
            "style": "IPY_MODEL_5dcab13ba4e74048987ec12e9cb072d2",
            "value": " 300/300 [02:57&lt;00:00,  1.50pipeline/s]"
          }
        },
        "7c0c1efe06dc4569912137a83741c4cc": {
          "model_module": "@jupyter-widgets/base",
          "model_name": "LayoutModel",
          "model_module_version": "1.2.0",
          "state": {
            "_model_module": "@jupyter-widgets/base",
            "_model_module_version": "1.2.0",
            "_model_name": "LayoutModel",
            "_view_count": null,
            "_view_module": "@jupyter-widgets/base",
            "_view_module_version": "1.2.0",
            "_view_name": "LayoutView",
            "align_content": null,
            "align_items": null,
            "align_self": null,
            "border": null,
            "bottom": null,
            "display": null,
            "flex": null,
            "flex_flow": null,
            "grid_area": null,
            "grid_auto_columns": null,
            "grid_auto_flow": null,
            "grid_auto_rows": null,
            "grid_column": null,
            "grid_gap": null,
            "grid_row": null,
            "grid_template_areas": null,
            "grid_template_columns": null,
            "grid_template_rows": null,
            "height": null,
            "justify_content": null,
            "justify_items": null,
            "left": null,
            "margin": null,
            "max_height": null,
            "max_width": null,
            "min_height": null,
            "min_width": null,
            "object_fit": null,
            "object_position": null,
            "order": null,
            "overflow": null,
            "overflow_x": null,
            "overflow_y": null,
            "padding": null,
            "right": null,
            "top": null,
            "visibility": "hidden",
            "width": null
          }
        },
        "ed6caf5ba73c4b8d9502fef83c128a22": {
          "model_module": "@jupyter-widgets/base",
          "model_name": "LayoutModel",
          "model_module_version": "1.2.0",
          "state": {
            "_model_module": "@jupyter-widgets/base",
            "_model_module_version": "1.2.0",
            "_model_name": "LayoutModel",
            "_view_count": null,
            "_view_module": "@jupyter-widgets/base",
            "_view_module_version": "1.2.0",
            "_view_name": "LayoutView",
            "align_content": null,
            "align_items": null,
            "align_self": null,
            "border": null,
            "bottom": null,
            "display": null,
            "flex": null,
            "flex_flow": null,
            "grid_area": null,
            "grid_auto_columns": null,
            "grid_auto_flow": null,
            "grid_auto_rows": null,
            "grid_column": null,
            "grid_gap": null,
            "grid_row": null,
            "grid_template_areas": null,
            "grid_template_columns": null,
            "grid_template_rows": null,
            "height": null,
            "justify_content": null,
            "justify_items": null,
            "left": null,
            "margin": null,
            "max_height": null,
            "max_width": null,
            "min_height": null,
            "min_width": null,
            "object_fit": null,
            "object_position": null,
            "order": null,
            "overflow": null,
            "overflow_x": null,
            "overflow_y": null,
            "padding": null,
            "right": null,
            "top": null,
            "visibility": null,
            "width": null
          }
        },
        "3453fbb14fa64d2c98ea2a7e6ec79279": {
          "model_module": "@jupyter-widgets/controls",
          "model_name": "DescriptionStyleModel",
          "model_module_version": "1.5.0",
          "state": {
            "_model_module": "@jupyter-widgets/controls",
            "_model_module_version": "1.5.0",
            "_model_name": "DescriptionStyleModel",
            "_view_count": null,
            "_view_module": "@jupyter-widgets/base",
            "_view_module_version": "1.2.0",
            "_view_name": "StyleView",
            "description_width": ""
          }
        },
        "ec6d06b88739432a8650ddac27dc471d": {
          "model_module": "@jupyter-widgets/base",
          "model_name": "LayoutModel",
          "model_module_version": "1.2.0",
          "state": {
            "_model_module": "@jupyter-widgets/base",
            "_model_module_version": "1.2.0",
            "_model_name": "LayoutModel",
            "_view_count": null,
            "_view_module": "@jupyter-widgets/base",
            "_view_module_version": "1.2.0",
            "_view_name": "LayoutView",
            "align_content": null,
            "align_items": null,
            "align_self": null,
            "border": null,
            "bottom": null,
            "display": null,
            "flex": null,
            "flex_flow": null,
            "grid_area": null,
            "grid_auto_columns": null,
            "grid_auto_flow": null,
            "grid_auto_rows": null,
            "grid_column": null,
            "grid_gap": null,
            "grid_row": null,
            "grid_template_areas": null,
            "grid_template_columns": null,
            "grid_template_rows": null,
            "height": null,
            "justify_content": null,
            "justify_items": null,
            "left": null,
            "margin": null,
            "max_height": null,
            "max_width": null,
            "min_height": null,
            "min_width": null,
            "object_fit": null,
            "object_position": null,
            "order": null,
            "overflow": null,
            "overflow_x": null,
            "overflow_y": null,
            "padding": null,
            "right": null,
            "top": null,
            "visibility": null,
            "width": null
          }
        },
        "31bdeada92424917be8e3e569472bd65": {
          "model_module": "@jupyter-widgets/controls",
          "model_name": "ProgressStyleModel",
          "model_module_version": "1.5.0",
          "state": {
            "_model_module": "@jupyter-widgets/controls",
            "_model_module_version": "1.5.0",
            "_model_name": "ProgressStyleModel",
            "_view_count": null,
            "_view_module": "@jupyter-widgets/base",
            "_view_module_version": "1.2.0",
            "_view_name": "StyleView",
            "bar_color": null,
            "description_width": ""
          }
        },
        "de1ceade35da4965b81b5f517583b51e": {
          "model_module": "@jupyter-widgets/base",
          "model_name": "LayoutModel",
          "model_module_version": "1.2.0",
          "state": {
            "_model_module": "@jupyter-widgets/base",
            "_model_module_version": "1.2.0",
            "_model_name": "LayoutModel",
            "_view_count": null,
            "_view_module": "@jupyter-widgets/base",
            "_view_module_version": "1.2.0",
            "_view_name": "LayoutView",
            "align_content": null,
            "align_items": null,
            "align_self": null,
            "border": null,
            "bottom": null,
            "display": null,
            "flex": null,
            "flex_flow": null,
            "grid_area": null,
            "grid_auto_columns": null,
            "grid_auto_flow": null,
            "grid_auto_rows": null,
            "grid_column": null,
            "grid_gap": null,
            "grid_row": null,
            "grid_template_areas": null,
            "grid_template_columns": null,
            "grid_template_rows": null,
            "height": null,
            "justify_content": null,
            "justify_items": null,
            "left": null,
            "margin": null,
            "max_height": null,
            "max_width": null,
            "min_height": null,
            "min_width": null,
            "object_fit": null,
            "object_position": null,
            "order": null,
            "overflow": null,
            "overflow_x": null,
            "overflow_y": null,
            "padding": null,
            "right": null,
            "top": null,
            "visibility": null,
            "width": null
          }
        },
        "5dcab13ba4e74048987ec12e9cb072d2": {
          "model_module": "@jupyter-widgets/controls",
          "model_name": "DescriptionStyleModel",
          "model_module_version": "1.5.0",
          "state": {
            "_model_module": "@jupyter-widgets/controls",
            "_model_module_version": "1.5.0",
            "_model_name": "DescriptionStyleModel",
            "_view_count": null,
            "_view_module": "@jupyter-widgets/base",
            "_view_module_version": "1.2.0",
            "_view_name": "StyleView",
            "description_width": ""
          }
        }
      }
    }
  },
  "cells": [
    {
      "cell_type": "markdown",
      "metadata": {
        "id": "view-in-github",
        "colab_type": "text"
      },
      "source": [
        "<a href=\"https://colab.research.google.com/github/Aswanthofficial/AutoML_Frameworks_for_Sustainable_Fuel_Efficiency_Predictions/blob/main/AutoML_Frameworks_for_Sustainable_Fuel_Efficiency_Predictions.ipynb\" target=\"_parent\"><img src=\"https://colab.research.google.com/assets/colab-badge.svg\" alt=\"Open In Colab\"/></a>"
      ]
    },
    {
      "cell_type": "markdown",
      "source": [
        "# ***AutoML***"
      ],
      "metadata": {
        "id": "GcvN0CfYWFLi"
      }
    },
    {
      "cell_type": "markdown",
      "source": [
        "***AutoML Frameworks for Sustainable Fuel Efficiency Predictions***"
      ],
      "metadata": {
        "id": "WcoPFjIGTaRR"
      }
    },
    {
      "cell_type": "code",
      "execution_count": null,
      "metadata": {
        "id": "wD-9lnZvJyw2"
      },
      "outputs": [],
      "source": [
        "# Install necessary packages\n",
        "!pip install -q seaborn"
      ]
    },
    {
      "cell_type": "code",
      "source": [
        "import numpy as np\n",
        "import pandas as pd\n",
        "import seaborn as sns\n",
        "import matplotlib.pyplot as plt\n",
        "from sklearn.model_selection import train_test_split\n",
        "from sklearn.ensemble import GradientBoostingRegressor\n",
        "from sklearn.metrics import mean_squared_error, r2_score, mean_absolute_error"
      ],
      "metadata": {
        "id": "ExcPp9OCJ-dP"
      },
      "execution_count": null,
      "outputs": []
    },
    {
      "cell_type": "code",
      "source": [
        "np.set_printoptions(precision=3, suppress=True)\n",
        "\n",
        "# TensorFlow\n",
        "import tensorflow as tf\n",
        "print(\"TensorFlow version:\", tf.__version__)\n",
        "\n",
        "# Load dataset\n",
        "url = 'http://archive.ics.uci.edu/ml/machine-learning-databases/auto-mpg/auto-mpg.data'\n",
        "column_names = ['MPG', 'Cylinders', 'Displacement', 'Horsepower', 'Weight',\n",
        "                'Acceleration', 'Model Year', 'Origin']\n",
        "\n",
        "raw_dataset = pd.read_csv(url, names=column_names,\n",
        "                          na_values='?', comment='\\t',\n",
        "                          sep=' ', skipinitialspace=True)\n",
        "\n",
        "dataset = raw_dataset.copy()\n"
      ],
      "metadata": {
        "colab": {
          "base_uri": "https://localhost:8080/"
        },
        "id": "FVgR3h_jKHVr",
        "outputId": "b6d9c737-5568-45f1-8325-ab62564e471a"
      },
      "execution_count": null,
      "outputs": [
        {
          "output_type": "stream",
          "name": "stdout",
          "text": [
            "TensorFlow version: 2.18.0\n"
          ]
        }
      ]
    },
    {
      "cell_type": "code",
      "source": [
        "dataset = dataset.dropna()"
      ],
      "metadata": {
        "id": "PXRR14HpKZ4F"
      },
      "execution_count": null,
      "outputs": []
    },
    {
      "cell_type": "code",
      "source": [
        "dataset['Origin'] = dataset['Origin'].map({1: 'USA', 2: 'Europe', 3: 'Japan'})\n",
        "dataset = pd.get_dummies(dataset, columns=['Origin'], prefix='', prefix_sep='')"
      ],
      "metadata": {
        "id": "diVy4FW4KK9s"
      },
      "execution_count": null,
      "outputs": []
    },
    {
      "cell_type": "code",
      "source": [
        "x = dataset.drop('MPG', axis=1)\n",
        "y = dataset['MPG']"
      ],
      "metadata": {
        "id": "-I7CPMUoKK6V"
      },
      "execution_count": null,
      "outputs": []
    },
    {
      "cell_type": "code",
      "source": [
        "x_train, x_test, y_train, y_test = train_test_split(x, y, test_size=0.2, random_state=42)"
      ],
      "metadata": {
        "id": "URZXp8oVKK3z"
      },
      "execution_count": null,
      "outputs": []
    },
    {
      "cell_type": "code",
      "source": [
        "model = GradientBoostingRegressor(n_estimators=200, learning_rate=0.1, max_depth=4, random_state=42)\n",
        "model.fit(x_train, y_train)"
      ],
      "metadata": {
        "colab": {
          "base_uri": "https://localhost:8080/",
          "height": 80
        },
        "id": "fLdwsIcCKK1E",
        "outputId": "02feff9e-5b94-4aac-9888-de813b9f6318"
      },
      "execution_count": null,
      "outputs": [
        {
          "output_type": "execute_result",
          "data": {
            "text/plain": [
              "GradientBoostingRegressor(max_depth=4, n_estimators=200, random_state=42)"
            ],
            "text/html": [
              "<style>#sk-container-id-1 {\n",
              "  /* Definition of color scheme common for light and dark mode */\n",
              "  --sklearn-color-text: #000;\n",
              "  --sklearn-color-text-muted: #666;\n",
              "  --sklearn-color-line: gray;\n",
              "  /* Definition of color scheme for unfitted estimators */\n",
              "  --sklearn-color-unfitted-level-0: #fff5e6;\n",
              "  --sklearn-color-unfitted-level-1: #f6e4d2;\n",
              "  --sklearn-color-unfitted-level-2: #ffe0b3;\n",
              "  --sklearn-color-unfitted-level-3: chocolate;\n",
              "  /* Definition of color scheme for fitted estimators */\n",
              "  --sklearn-color-fitted-level-0: #f0f8ff;\n",
              "  --sklearn-color-fitted-level-1: #d4ebff;\n",
              "  --sklearn-color-fitted-level-2: #b3dbfd;\n",
              "  --sklearn-color-fitted-level-3: cornflowerblue;\n",
              "\n",
              "  /* Specific color for light theme */\n",
              "  --sklearn-color-text-on-default-background: var(--sg-text-color, var(--theme-code-foreground, var(--jp-content-font-color1, black)));\n",
              "  --sklearn-color-background: var(--sg-background-color, var(--theme-background, var(--jp-layout-color0, white)));\n",
              "  --sklearn-color-border-box: var(--sg-text-color, var(--theme-code-foreground, var(--jp-content-font-color1, black)));\n",
              "  --sklearn-color-icon: #696969;\n",
              "\n",
              "  @media (prefers-color-scheme: dark) {\n",
              "    /* Redefinition of color scheme for dark theme */\n",
              "    --sklearn-color-text-on-default-background: var(--sg-text-color, var(--theme-code-foreground, var(--jp-content-font-color1, white)));\n",
              "    --sklearn-color-background: var(--sg-background-color, var(--theme-background, var(--jp-layout-color0, #111)));\n",
              "    --sklearn-color-border-box: var(--sg-text-color, var(--theme-code-foreground, var(--jp-content-font-color1, white)));\n",
              "    --sklearn-color-icon: #878787;\n",
              "  }\n",
              "}\n",
              "\n",
              "#sk-container-id-1 {\n",
              "  color: var(--sklearn-color-text);\n",
              "}\n",
              "\n",
              "#sk-container-id-1 pre {\n",
              "  padding: 0;\n",
              "}\n",
              "\n",
              "#sk-container-id-1 input.sk-hidden--visually {\n",
              "  border: 0;\n",
              "  clip: rect(1px 1px 1px 1px);\n",
              "  clip: rect(1px, 1px, 1px, 1px);\n",
              "  height: 1px;\n",
              "  margin: -1px;\n",
              "  overflow: hidden;\n",
              "  padding: 0;\n",
              "  position: absolute;\n",
              "  width: 1px;\n",
              "}\n",
              "\n",
              "#sk-container-id-1 div.sk-dashed-wrapped {\n",
              "  border: 1px dashed var(--sklearn-color-line);\n",
              "  margin: 0 0.4em 0.5em 0.4em;\n",
              "  box-sizing: border-box;\n",
              "  padding-bottom: 0.4em;\n",
              "  background-color: var(--sklearn-color-background);\n",
              "}\n",
              "\n",
              "#sk-container-id-1 div.sk-container {\n",
              "  /* jupyter's `normalize.less` sets `[hidden] { display: none; }`\n",
              "     but bootstrap.min.css set `[hidden] { display: none !important; }`\n",
              "     so we also need the `!important` here to be able to override the\n",
              "     default hidden behavior on the sphinx rendered scikit-learn.org.\n",
              "     See: https://github.com/scikit-learn/scikit-learn/issues/21755 */\n",
              "  display: inline-block !important;\n",
              "  position: relative;\n",
              "}\n",
              "\n",
              "#sk-container-id-1 div.sk-text-repr-fallback {\n",
              "  display: none;\n",
              "}\n",
              "\n",
              "div.sk-parallel-item,\n",
              "div.sk-serial,\n",
              "div.sk-item {\n",
              "  /* draw centered vertical line to link estimators */\n",
              "  background-image: linear-gradient(var(--sklearn-color-text-on-default-background), var(--sklearn-color-text-on-default-background));\n",
              "  background-size: 2px 100%;\n",
              "  background-repeat: no-repeat;\n",
              "  background-position: center center;\n",
              "}\n",
              "\n",
              "/* Parallel-specific style estimator block */\n",
              "\n",
              "#sk-container-id-1 div.sk-parallel-item::after {\n",
              "  content: \"\";\n",
              "  width: 100%;\n",
              "  border-bottom: 2px solid var(--sklearn-color-text-on-default-background);\n",
              "  flex-grow: 1;\n",
              "}\n",
              "\n",
              "#sk-container-id-1 div.sk-parallel {\n",
              "  display: flex;\n",
              "  align-items: stretch;\n",
              "  justify-content: center;\n",
              "  background-color: var(--sklearn-color-background);\n",
              "  position: relative;\n",
              "}\n",
              "\n",
              "#sk-container-id-1 div.sk-parallel-item {\n",
              "  display: flex;\n",
              "  flex-direction: column;\n",
              "}\n",
              "\n",
              "#sk-container-id-1 div.sk-parallel-item:first-child::after {\n",
              "  align-self: flex-end;\n",
              "  width: 50%;\n",
              "}\n",
              "\n",
              "#sk-container-id-1 div.sk-parallel-item:last-child::after {\n",
              "  align-self: flex-start;\n",
              "  width: 50%;\n",
              "}\n",
              "\n",
              "#sk-container-id-1 div.sk-parallel-item:only-child::after {\n",
              "  width: 0;\n",
              "}\n",
              "\n",
              "/* Serial-specific style estimator block */\n",
              "\n",
              "#sk-container-id-1 div.sk-serial {\n",
              "  display: flex;\n",
              "  flex-direction: column;\n",
              "  align-items: center;\n",
              "  background-color: var(--sklearn-color-background);\n",
              "  padding-right: 1em;\n",
              "  padding-left: 1em;\n",
              "}\n",
              "\n",
              "\n",
              "/* Toggleable style: style used for estimator/Pipeline/ColumnTransformer box that is\n",
              "clickable and can be expanded/collapsed.\n",
              "- Pipeline and ColumnTransformer use this feature and define the default style\n",
              "- Estimators will overwrite some part of the style using the `sk-estimator` class\n",
              "*/\n",
              "\n",
              "/* Pipeline and ColumnTransformer style (default) */\n",
              "\n",
              "#sk-container-id-1 div.sk-toggleable {\n",
              "  /* Default theme specific background. It is overwritten whether we have a\n",
              "  specific estimator or a Pipeline/ColumnTransformer */\n",
              "  background-color: var(--sklearn-color-background);\n",
              "}\n",
              "\n",
              "/* Toggleable label */\n",
              "#sk-container-id-1 label.sk-toggleable__label {\n",
              "  cursor: pointer;\n",
              "  display: flex;\n",
              "  width: 100%;\n",
              "  margin-bottom: 0;\n",
              "  padding: 0.5em;\n",
              "  box-sizing: border-box;\n",
              "  text-align: center;\n",
              "  align-items: start;\n",
              "  justify-content: space-between;\n",
              "  gap: 0.5em;\n",
              "}\n",
              "\n",
              "#sk-container-id-1 label.sk-toggleable__label .caption {\n",
              "  font-size: 0.6rem;\n",
              "  font-weight: lighter;\n",
              "  color: var(--sklearn-color-text-muted);\n",
              "}\n",
              "\n",
              "#sk-container-id-1 label.sk-toggleable__label-arrow:before {\n",
              "  /* Arrow on the left of the label */\n",
              "  content: \"▸\";\n",
              "  float: left;\n",
              "  margin-right: 0.25em;\n",
              "  color: var(--sklearn-color-icon);\n",
              "}\n",
              "\n",
              "#sk-container-id-1 label.sk-toggleable__label-arrow:hover:before {\n",
              "  color: var(--sklearn-color-text);\n",
              "}\n",
              "\n",
              "/* Toggleable content - dropdown */\n",
              "\n",
              "#sk-container-id-1 div.sk-toggleable__content {\n",
              "  max-height: 0;\n",
              "  max-width: 0;\n",
              "  overflow: hidden;\n",
              "  text-align: left;\n",
              "  /* unfitted */\n",
              "  background-color: var(--sklearn-color-unfitted-level-0);\n",
              "}\n",
              "\n",
              "#sk-container-id-1 div.sk-toggleable__content.fitted {\n",
              "  /* fitted */\n",
              "  background-color: var(--sklearn-color-fitted-level-0);\n",
              "}\n",
              "\n",
              "#sk-container-id-1 div.sk-toggleable__content pre {\n",
              "  margin: 0.2em;\n",
              "  border-radius: 0.25em;\n",
              "  color: var(--sklearn-color-text);\n",
              "  /* unfitted */\n",
              "  background-color: var(--sklearn-color-unfitted-level-0);\n",
              "}\n",
              "\n",
              "#sk-container-id-1 div.sk-toggleable__content.fitted pre {\n",
              "  /* unfitted */\n",
              "  background-color: var(--sklearn-color-fitted-level-0);\n",
              "}\n",
              "\n",
              "#sk-container-id-1 input.sk-toggleable__control:checked~div.sk-toggleable__content {\n",
              "  /* Expand drop-down */\n",
              "  max-height: 200px;\n",
              "  max-width: 100%;\n",
              "  overflow: auto;\n",
              "}\n",
              "\n",
              "#sk-container-id-1 input.sk-toggleable__control:checked~label.sk-toggleable__label-arrow:before {\n",
              "  content: \"▾\";\n",
              "}\n",
              "\n",
              "/* Pipeline/ColumnTransformer-specific style */\n",
              "\n",
              "#sk-container-id-1 div.sk-label input.sk-toggleable__control:checked~label.sk-toggleable__label {\n",
              "  color: var(--sklearn-color-text);\n",
              "  background-color: var(--sklearn-color-unfitted-level-2);\n",
              "}\n",
              "\n",
              "#sk-container-id-1 div.sk-label.fitted input.sk-toggleable__control:checked~label.sk-toggleable__label {\n",
              "  background-color: var(--sklearn-color-fitted-level-2);\n",
              "}\n",
              "\n",
              "/* Estimator-specific style */\n",
              "\n",
              "/* Colorize estimator box */\n",
              "#sk-container-id-1 div.sk-estimator input.sk-toggleable__control:checked~label.sk-toggleable__label {\n",
              "  /* unfitted */\n",
              "  background-color: var(--sklearn-color-unfitted-level-2);\n",
              "}\n",
              "\n",
              "#sk-container-id-1 div.sk-estimator.fitted input.sk-toggleable__control:checked~label.sk-toggleable__label {\n",
              "  /* fitted */\n",
              "  background-color: var(--sklearn-color-fitted-level-2);\n",
              "}\n",
              "\n",
              "#sk-container-id-1 div.sk-label label.sk-toggleable__label,\n",
              "#sk-container-id-1 div.sk-label label {\n",
              "  /* The background is the default theme color */\n",
              "  color: var(--sklearn-color-text-on-default-background);\n",
              "}\n",
              "\n",
              "/* On hover, darken the color of the background */\n",
              "#sk-container-id-1 div.sk-label:hover label.sk-toggleable__label {\n",
              "  color: var(--sklearn-color-text);\n",
              "  background-color: var(--sklearn-color-unfitted-level-2);\n",
              "}\n",
              "\n",
              "/* Label box, darken color on hover, fitted */\n",
              "#sk-container-id-1 div.sk-label.fitted:hover label.sk-toggleable__label.fitted {\n",
              "  color: var(--sklearn-color-text);\n",
              "  background-color: var(--sklearn-color-fitted-level-2);\n",
              "}\n",
              "\n",
              "/* Estimator label */\n",
              "\n",
              "#sk-container-id-1 div.sk-label label {\n",
              "  font-family: monospace;\n",
              "  font-weight: bold;\n",
              "  display: inline-block;\n",
              "  line-height: 1.2em;\n",
              "}\n",
              "\n",
              "#sk-container-id-1 div.sk-label-container {\n",
              "  text-align: center;\n",
              "}\n",
              "\n",
              "/* Estimator-specific */\n",
              "#sk-container-id-1 div.sk-estimator {\n",
              "  font-family: monospace;\n",
              "  border: 1px dotted var(--sklearn-color-border-box);\n",
              "  border-radius: 0.25em;\n",
              "  box-sizing: border-box;\n",
              "  margin-bottom: 0.5em;\n",
              "  /* unfitted */\n",
              "  background-color: var(--sklearn-color-unfitted-level-0);\n",
              "}\n",
              "\n",
              "#sk-container-id-1 div.sk-estimator.fitted {\n",
              "  /* fitted */\n",
              "  background-color: var(--sklearn-color-fitted-level-0);\n",
              "}\n",
              "\n",
              "/* on hover */\n",
              "#sk-container-id-1 div.sk-estimator:hover {\n",
              "  /* unfitted */\n",
              "  background-color: var(--sklearn-color-unfitted-level-2);\n",
              "}\n",
              "\n",
              "#sk-container-id-1 div.sk-estimator.fitted:hover {\n",
              "  /* fitted */\n",
              "  background-color: var(--sklearn-color-fitted-level-2);\n",
              "}\n",
              "\n",
              "/* Specification for estimator info (e.g. \"i\" and \"?\") */\n",
              "\n",
              "/* Common style for \"i\" and \"?\" */\n",
              "\n",
              ".sk-estimator-doc-link,\n",
              "a:link.sk-estimator-doc-link,\n",
              "a:visited.sk-estimator-doc-link {\n",
              "  float: right;\n",
              "  font-size: smaller;\n",
              "  line-height: 1em;\n",
              "  font-family: monospace;\n",
              "  background-color: var(--sklearn-color-background);\n",
              "  border-radius: 1em;\n",
              "  height: 1em;\n",
              "  width: 1em;\n",
              "  text-decoration: none !important;\n",
              "  margin-left: 0.5em;\n",
              "  text-align: center;\n",
              "  /* unfitted */\n",
              "  border: var(--sklearn-color-unfitted-level-1) 1pt solid;\n",
              "  color: var(--sklearn-color-unfitted-level-1);\n",
              "}\n",
              "\n",
              ".sk-estimator-doc-link.fitted,\n",
              "a:link.sk-estimator-doc-link.fitted,\n",
              "a:visited.sk-estimator-doc-link.fitted {\n",
              "  /* fitted */\n",
              "  border: var(--sklearn-color-fitted-level-1) 1pt solid;\n",
              "  color: var(--sklearn-color-fitted-level-1);\n",
              "}\n",
              "\n",
              "/* On hover */\n",
              "div.sk-estimator:hover .sk-estimator-doc-link:hover,\n",
              ".sk-estimator-doc-link:hover,\n",
              "div.sk-label-container:hover .sk-estimator-doc-link:hover,\n",
              ".sk-estimator-doc-link:hover {\n",
              "  /* unfitted */\n",
              "  background-color: var(--sklearn-color-unfitted-level-3);\n",
              "  color: var(--sklearn-color-background);\n",
              "  text-decoration: none;\n",
              "}\n",
              "\n",
              "div.sk-estimator.fitted:hover .sk-estimator-doc-link.fitted:hover,\n",
              ".sk-estimator-doc-link.fitted:hover,\n",
              "div.sk-label-container:hover .sk-estimator-doc-link.fitted:hover,\n",
              ".sk-estimator-doc-link.fitted:hover {\n",
              "  /* fitted */\n",
              "  background-color: var(--sklearn-color-fitted-level-3);\n",
              "  color: var(--sklearn-color-background);\n",
              "  text-decoration: none;\n",
              "}\n",
              "\n",
              "/* Span, style for the box shown on hovering the info icon */\n",
              ".sk-estimator-doc-link span {\n",
              "  display: none;\n",
              "  z-index: 9999;\n",
              "  position: relative;\n",
              "  font-weight: normal;\n",
              "  right: .2ex;\n",
              "  padding: .5ex;\n",
              "  margin: .5ex;\n",
              "  width: min-content;\n",
              "  min-width: 20ex;\n",
              "  max-width: 50ex;\n",
              "  color: var(--sklearn-color-text);\n",
              "  box-shadow: 2pt 2pt 4pt #999;\n",
              "  /* unfitted */\n",
              "  background: var(--sklearn-color-unfitted-level-0);\n",
              "  border: .5pt solid var(--sklearn-color-unfitted-level-3);\n",
              "}\n",
              "\n",
              ".sk-estimator-doc-link.fitted span {\n",
              "  /* fitted */\n",
              "  background: var(--sklearn-color-fitted-level-0);\n",
              "  border: var(--sklearn-color-fitted-level-3);\n",
              "}\n",
              "\n",
              ".sk-estimator-doc-link:hover span {\n",
              "  display: block;\n",
              "}\n",
              "\n",
              "/* \"?\"-specific style due to the `<a>` HTML tag */\n",
              "\n",
              "#sk-container-id-1 a.estimator_doc_link {\n",
              "  float: right;\n",
              "  font-size: 1rem;\n",
              "  line-height: 1em;\n",
              "  font-family: monospace;\n",
              "  background-color: var(--sklearn-color-background);\n",
              "  border-radius: 1rem;\n",
              "  height: 1rem;\n",
              "  width: 1rem;\n",
              "  text-decoration: none;\n",
              "  /* unfitted */\n",
              "  color: var(--sklearn-color-unfitted-level-1);\n",
              "  border: var(--sklearn-color-unfitted-level-1) 1pt solid;\n",
              "}\n",
              "\n",
              "#sk-container-id-1 a.estimator_doc_link.fitted {\n",
              "  /* fitted */\n",
              "  border: var(--sklearn-color-fitted-level-1) 1pt solid;\n",
              "  color: var(--sklearn-color-fitted-level-1);\n",
              "}\n",
              "\n",
              "/* On hover */\n",
              "#sk-container-id-1 a.estimator_doc_link:hover {\n",
              "  /* unfitted */\n",
              "  background-color: var(--sklearn-color-unfitted-level-3);\n",
              "  color: var(--sklearn-color-background);\n",
              "  text-decoration: none;\n",
              "}\n",
              "\n",
              "#sk-container-id-1 a.estimator_doc_link.fitted:hover {\n",
              "  /* fitted */\n",
              "  background-color: var(--sklearn-color-fitted-level-3);\n",
              "}\n",
              "</style><div id=\"sk-container-id-1\" class=\"sk-top-container\"><div class=\"sk-text-repr-fallback\"><pre>GradientBoostingRegressor(max_depth=4, n_estimators=200, random_state=42)</pre><b>In a Jupyter environment, please rerun this cell to show the HTML representation or trust the notebook. <br />On GitHub, the HTML representation is unable to render, please try loading this page with nbviewer.org.</b></div><div class=\"sk-container\" hidden><div class=\"sk-item\"><div class=\"sk-estimator fitted sk-toggleable\"><input class=\"sk-toggleable__control sk-hidden--visually\" id=\"sk-estimator-id-1\" type=\"checkbox\" checked><label for=\"sk-estimator-id-1\" class=\"sk-toggleable__label fitted sk-toggleable__label-arrow\"><div><div>GradientBoostingRegressor</div></div><div><a class=\"sk-estimator-doc-link fitted\" rel=\"noreferrer\" target=\"_blank\" href=\"https://scikit-learn.org/1.6/modules/generated/sklearn.ensemble.GradientBoostingRegressor.html\">?<span>Documentation for GradientBoostingRegressor</span></a><span class=\"sk-estimator-doc-link fitted\">i<span>Fitted</span></span></div></label><div class=\"sk-toggleable__content fitted\"><pre>GradientBoostingRegressor(max_depth=4, n_estimators=200, random_state=42)</pre></div> </div></div></div></div>"
            ]
          },
          "metadata": {},
          "execution_count": 9
        }
      ]
    },
    {
      "cell_type": "code",
      "source": [
        "y_pred = model.predict(x_test)"
      ],
      "metadata": {
        "id": "O5GpSj47KKyx"
      },
      "execution_count": null,
      "outputs": []
    },
    {
      "cell_type": "code",
      "source": [
        "# Evaluation metrics\n",
        "mse = mean_squared_error(y_test, y_pred)\n",
        "rmse = np.sqrt(mse)\n",
        "mae = mean_absolute_error(y_test, y_pred)\n",
        "r2 = r2_score(y_test, y_pred)"
      ],
      "metadata": {
        "id": "FY6dM_LXKKwT"
      },
      "execution_count": null,
      "outputs": []
    },
    {
      "cell_type": "code",
      "source": [
        "print(\" Gradient Boosting Regressor Performance:\")\n",
        "print(\"Mean Squared Error (MSE):\", mse)\n",
        "print(\"Root Mean Squared Error (RMSE):\", rmse)\n",
        "print(\"Mean Absolute Error (MAE):\", mae)\n",
        "print(\"R² Score:\", r2)"
      ],
      "metadata": {
        "colab": {
          "base_uri": "https://localhost:8080/"
        },
        "id": "KPzyWAU7KKtv",
        "outputId": "1408aede-4218-4027-ec4b-40126f79cc27"
      },
      "execution_count": null,
      "outputs": [
        {
          "output_type": "stream",
          "name": "stdout",
          "text": [
            " Gradient Boosting Regressor Performance:\n",
            "Mean Squared Error (MSE): 6.837353064702478\n",
            "Root Mean Squared Error (RMSE): 2.6148332766550295\n",
            "Mean Absolute Error (MAE): 1.8205440997906752\n",
            "R² Score: 0.8660408515990048\n"
          ]
        }
      ]
    },
    {
      "cell_type": "code",
      "source": [
        "importances = model.feature_importances_\n",
        "features = x.columns\n",
        "\n",
        "plt.figure(figsize=(10, 6))\n",
        "plt.barh(features, importances, color='skyblue')\n",
        "plt.xlabel(\"Feature Importance\")\n",
        "plt.title(\"Feature Importance - Gradient Boosting\")\n",
        "plt.grid(True)\n",
        "plt.tight_layout()\n",
        "plt.show()"
      ],
      "metadata": {
        "colab": {
          "base_uri": "https://localhost:8080/",
          "height": 607
        },
        "id": "ZerctdgaKKrS",
        "outputId": "d20a76e3-1549-4035-e968-591d6d956a26"
      },
      "execution_count": null,
      "outputs": [
        {
          "output_type": "display_data",
          "data": {
            "text/plain": [
              "<Figure size 1000x600 with 1 Axes>"
            ],
            "image/png": "[encoded data removed]"
          },
          "metadata": {}
        }
      ]
    },
    {
      "cell_type": "markdown",
      "source": [
        " ***PYCART***"
      ],
      "metadata": {
        "id": "V0-EyOp0Lel6"
      }
    },
    {
      "cell_type": "code",
      "source": [
        "!pip install --upgrade --force-reinstall --no-deps \\\n",
        "  pycaret==3.3.0 \\\n",
        "  pandas==2.1.4 \\\n",
        "  scikit-learn==1.3.2 \\\n",
        "  numpy==1.24.4 \\\n",
        "  matplotlib==3.7.5"
      ],
      "metadata": {
        "colab": {
          "base_uri": "https://localhost:8080/",
          "height": 755
        },
        "id": "7pLTEcOiNPQ_",
        "outputId": "aed78842-d0f7-41e9-894d-7cd6bf531052"
      },
      "execution_count": null,
      "outputs": [
        {
          "output_type": "stream",
          "name": "stdout",
          "text": [
            "Collecting pycaret==3.3.0\n",
            "  Using cached pycaret-3.3.0-py3-none-any.whl.metadata (17 kB)\n",
            "Collecting pandas==2.1.4\n",
            "  Using cached pandas-2.1.4-cp311-cp311-manylinux_2_17_x86_64.manylinux2014_x86_64.whl.metadata (18 kB)\n",
            "Collecting scikit-learn==1.3.2\n",
            "  Using cached scikit_learn-1.3.2-cp311-cp311-manylinux_2_17_x86_64.manylinux2014_x86_64.whl.metadata (11 kB)\n",
            "Collecting numpy==1.24.4\n",
            "  Using cached numpy-1.24.4-cp311-cp311-manylinux_2_17_x86_64.manylinux2014_x86_64.whl.metadata (5.6 kB)\n",
            "Collecting matplotlib==3.7.5\n",
            "  Using cached matplotlib-3.7.5-cp311-cp311-manylinux_2_17_x86_64.manylinux2014_x86_64.whl.metadata (5.7 kB)\n",
            "Using cached pycaret-3.3.0-py3-none-any.whl (485 kB)\n",
            "Using cached pandas-2.1.4-cp311-cp311-manylinux_2_17_x86_64.manylinux2014_x86_64.whl (12.2 MB)\n",
            "Using cached scikit_learn-1.3.2-cp311-cp311-manylinux_2_17_x86_64.manylinux2014_x86_64.whl (10.9 MB)\n",
            "Using cached numpy-1.24.4-cp311-cp311-manylinux_2_17_x86_64.manylinux2014_x86_64.whl (17.3 MB)\n",
            "Using cached matplotlib-3.7.5-cp311-cp311-manylinux_2_17_x86_64.manylinux2014_x86_64.whl (11.6 MB)\n",
            "Installing collected packages: scikit-learn, pycaret, pandas, numpy, matplotlib\n",
            "  Attempting uninstall: scikit-learn\n",
            "    Found existing installation: scikit-learn 1.3.2\n",
            "    Uninstalling scikit-learn-1.3.2:\n",
            "      Successfully uninstalled scikit-learn-1.3.2\n",
            "  Attempting uninstall: pycaret\n",
            "    Found existing installation: pycaret 3.3.0\n",
            "    Uninstalling pycaret-3.3.0:\n",
            "      Successfully uninstalled pycaret-3.3.0\n",
            "  Attempting uninstall: pandas\n",
            "    Found existing installation: pandas 2.1.4\n",
            "    Uninstalling pandas-2.1.4:\n",
            "      Successfully uninstalled pandas-2.1.4\n",
            "  Attempting uninstall: numpy\n",
            "    Found existing installation: numpy 1.24.4\n",
            "    Uninstalling numpy-1.24.4:\n",
            "      Successfully uninstalled numpy-1.24.4\n",
            "  Attempting uninstall: matplotlib\n",
            "    Found existing installation: matplotlib 3.7.5\n",
            "    Uninstalling matplotlib-3.7.5:\n",
            "      Successfully uninstalled matplotlib-3.7.5\n",
            "Successfully installed matplotlib-3.7.5 numpy-1.24.4 pandas-2.1.4 pycaret-3.3.0 scikit-learn-1.3.2\n"
          ]
        },
        {
          "output_type": "display_data",
          "data": {
            "application/vnd.colab-display-data+json": {
              "pip_warning": {
                "packages": [
                  "matplotlib",
                  "mpl_toolkits",
                  "numpy"
                ]
              },
              "id": "ddfe0af3ac0c4ccb8c84fc3e56ea825a"
            }
          },
          "metadata": {}
        }
      ]
    },
    {
      "cell_type": "code",
      "source": [
        "import pandas as pd\n",
        "from pycaret.regression import *"
      ],
      "metadata": {
        "id": "2kibcmlrOHDq"
      },
      "execution_count": null,
      "outputs": []
    },
    {
      "cell_type": "code",
      "source": [
        "# Load dataset\n",
        "url = 'http://archive.ics.uci.edu/ml/machine-learning-databases/auto-mpg/auto-mpg.data'\n",
        "column_names = ['MPG', 'Cylinders', 'Displacement', 'Horsepower', 'Weight',\n",
        "                'Acceleration', 'Model Year', 'Origin']\n",
        "\n",
        "raw_dataset = pd.read_csv(url, names=column_names,\n",
        "                          na_values='?', comment='\\t',\n",
        "                          sep=' ', skipinitialspace=True)"
      ],
      "metadata": {
        "id": "39gif2LwOwp1"
      },
      "execution_count": null,
      "outputs": []
    },
    {
      "cell_type": "code",
      "source": [
        "# Copy dataset and clean\n",
        "data = raw_dataset.copy()\n",
        "data = data.dropna()"
      ],
      "metadata": {
        "id": "fCTPPx4xOzTS"
      },
      "execution_count": null,
      "outputs": []
    },
    {
      "cell_type": "code",
      "source": [
        "data['Origin'] = data['Origin'].map({1: 'USA', 2: 'Europe', 3: 'Japan'})"
      ],
      "metadata": {
        "id": "kyT0HzzsOzM0"
      },
      "execution_count": null,
      "outputs": []
    },
    {
      "cell_type": "code",
      "source": [
        "data.reset_index(drop=True, inplace=True)"
      ],
      "metadata": {
        "id": "nBOkpbP2O2N3"
      },
      "execution_count": null,
      "outputs": []
    },
    {
      "cell_type": "code",
      "source": [
        "\n",
        "reg_setup = setup(data, target='MPG', session_id=42, train_size=0.8, verbose=False)"
      ],
      "metadata": {
        "id": "cqLpTAhFO6ru"
      },
      "execution_count": null,
      "outputs": []
    },
    {
      "cell_type": "code",
      "source": [
        "best_model = compare_models(sort='R2')"
      ],
      "metadata": {
        "colab": {
          "base_uri": "https://localhost:8080/",
          "height": 645,
          "referenced_widgets": [
            "1f8aac5ce1804659a69ca0672696c007",
            "3b893cfd0e8f499ca74a82a98d1e0f68",
            "38d93d2f06d04678bd0ec989f6f0c606",
            "29c14cc263424fa783e7a26614bcf3c9",
            "8279df79723b46db83fb6a56259ceca7",
            "363f0ed02ab245dab2528f4088be6fcd",
            "91af2611d8e6419790293ec7f177a1c4",
            "1c765f150c0447a7a5417e59367272d5",
            "691e79f11f1b46e68f39473f40cee0ad",
            "7fb4dc8ba4ed4fcea4bc99537bddfe2b",
            "a54b56199d7a4961a2e2ef778e1328ce"
          ]
        },
        "id": "GtvZLmb7O6lb",
        "outputId": "1c9f8073-9a57-45d2-9330-8f935dacb708"
      },
      "execution_count": null,
      "outputs": [
        {
          "output_type": "display_data",
          "data": {
            "text/plain": [
              "<IPython.core.display.HTML object>"
            ],
            "text/html": []
          },
          "metadata": {}
        },
        {
          "output_type": "display_data",
          "data": {
            "text/plain": [
              "<pandas.io.formats.style.Styler at 0x7b4e9f5ae690>"
            ],
            "text/html": [
              "<style type=\"text/css\">\n",
              "#T_9df4a th {\n",
              "  text-align: left;\n",
              "}\n",
              "#T_9df4a_row0_col0, #T_9df4a_row0_col5, #T_9df4a_row0_col6, #T_9df4a_row1_col0, #T_9df4a_row1_col1, #T_9df4a_row1_col2, #T_9df4a_row1_col3, #T_9df4a_row1_col4, #T_9df4a_row2_col0, #T_9df4a_row2_col1, #T_9df4a_row2_col2, #T_9df4a_row2_col3, #T_9df4a_row2_col4, #T_9df4a_row2_col5, #T_9df4a_row2_col6, #T_9df4a_row3_col0, #T_9df4a_row3_col1, #T_9df4a_row3_col2, #T_9df4a_row3_col3, #T_9df4a_row3_col4, #T_9df4a_row3_col5, #T_9df4a_row3_col6, #T_9df4a_row4_col0, #T_9df4a_row4_col1, #T_9df4a_row4_col2, #T_9df4a_row4_col3, #T_9df4a_row4_col4, #T_9df4a_row4_col5, #T_9df4a_row4_col6, #T_9df4a_row5_col0, #T_9df4a_row5_col1, #T_9df4a_row5_col2, #T_9df4a_row5_col3, #T_9df4a_row5_col4, #T_9df4a_row5_col5, #T_9df4a_row5_col6, #T_9df4a_row6_col0, #T_9df4a_row6_col1, #T_9df4a_row6_col2, #T_9df4a_row6_col3, #T_9df4a_row6_col4, #T_9df4a_row6_col5, #T_9df4a_row6_col6, #T_9df4a_row7_col0, #T_9df4a_row7_col1, #T_9df4a_row7_col2, #T_9df4a_row7_col3, #T_9df4a_row7_col4, #T_9df4a_row7_col5, #T_9df4a_row7_col6, #T_9df4a_row8_col0, #T_9df4a_row8_col1, #T_9df4a_row8_col2, #T_9df4a_row8_col3, #T_9df4a_row8_col4, #T_9df4a_row8_col5, #T_9df4a_row8_col6, #T_9df4a_row9_col0, #T_9df4a_row9_col1, #T_9df4a_row9_col2, #T_9df4a_row9_col3, #T_9df4a_row9_col4, #T_9df4a_row9_col5, #T_9df4a_row9_col6, #T_9df4a_row10_col0, #T_9df4a_row10_col1, #T_9df4a_row10_col2, #T_9df4a_row10_col3, #T_9df4a_row10_col4, #T_9df4a_row10_col5, #T_9df4a_row10_col6, #T_9df4a_row11_col0, #T_9df4a_row11_col1, #T_9df4a_row11_col2, #T_9df4a_row11_col3, #T_9df4a_row11_col4, #T_9df4a_row11_col5, #T_9df4a_row11_col6, #T_9df4a_row12_col0, #T_9df4a_row12_col1, #T_9df4a_row12_col2, #T_9df4a_row12_col3, #T_9df4a_row12_col4, #T_9df4a_row12_col5, #T_9df4a_row12_col6, #T_9df4a_row13_col0, #T_9df4a_row13_col1, #T_9df4a_row13_col2, #T_9df4a_row13_col3, #T_9df4a_row13_col4, #T_9df4a_row13_col5, #T_9df4a_row13_col6, #T_9df4a_row14_col0, #T_9df4a_row14_col1, #T_9df4a_row14_col2, #T_9df4a_row14_col3, #T_9df4a_row14_col4, #T_9df4a_row14_col5, #T_9df4a_row14_col6, #T_9df4a_row15_col0, #T_9df4a_row15_col1, #T_9df4a_row15_col2, #T_9df4a_row15_col3, #T_9df4a_row15_col4, #T_9df4a_row15_col5, #T_9df4a_row15_col6, #T_9df4a_row16_col0, #T_9df4a_row16_col1, #T_9df4a_row16_col2, #T_9df4a_row16_col3, #T_9df4a_row16_col4, #T_9df4a_row16_col5, #T_9df4a_row16_col6, #T_9df4a_row17_col0, #T_9df4a_row17_col1, #T_9df4a_row17_col2, #T_9df4a_row17_col3, #T_9df4a_row17_col4, #T_9df4a_row17_col5, #T_9df4a_row17_col6, #T_9df4a_row18_col0, #T_9df4a_row18_col1, #T_9df4a_row18_col2, #T_9df4a_row18_col3, #T_9df4a_row18_col4, #T_9df4a_row18_col5, #T_9df4a_row18_col6 {\n",
              "  text-align: left;\n",
              "}\n",
              "#T_9df4a_row0_col1, #T_9df4a_row0_col2, #T_9df4a_row0_col3, #T_9df4a_row0_col4, #T_9df4a_row1_col5, #T_9df4a_row1_col6 {\n",
              "  text-align: left;\n",
              "  background-color: yellow;\n",
              "}\n",
              "#T_9df4a_row0_col7, #T_9df4a_row1_col7, #T_9df4a_row2_col7, #T_9df4a_row3_col7, #T_9df4a_row4_col7, #T_9df4a_row5_col7, #T_9df4a_row6_col7, #T_9df4a_row7_col7, #T_9df4a_row8_col7, #T_9df4a_row9_col7, #T_9df4a_row10_col7, #T_9df4a_row11_col7, #T_9df4a_row12_col7, #T_9df4a_row13_col7, #T_9df4a_row14_col7, #T_9df4a_row15_col7, #T_9df4a_row16_col7, #T_9df4a_row18_col7 {\n",
              "  text-align: left;\n",
              "  background-color: lightgrey;\n",
              "}\n",
              "#T_9df4a_row17_col7 {\n",
              "  text-align: left;\n",
              "  background-color: yellow;\n",
              "  background-color: lightgrey;\n",
              "}\n",
              "</style>\n",
              "<table id=\"T_9df4a\" class=\"dataframe\">\n",
              "  <thead>\n",
              "    <tr>\n",
              "      <th class=\"blank level0\" >&nbsp;</th>\n",
              "      <th id=\"T_9df4a_level0_col0\" class=\"col_heading level0 col0\" >Model</th>\n",
              "      <th id=\"T_9df4a_level0_col1\" class=\"col_heading level0 col1\" >MAE</th>\n",
              "      <th id=\"T_9df4a_level0_col2\" class=\"col_heading level0 col2\" >MSE</th>\n",
              "      <th id=\"T_9df4a_level0_col3\" class=\"col_heading level0 col3\" >RMSE</th>\n",
              "      <th id=\"T_9df4a_level0_col4\" class=\"col_heading level0 col4\" >R2</th>\n",
              "      <th id=\"T_9df4a_level0_col5\" class=\"col_heading level0 col5\" >RMSLE</th>\n",
              "      <th id=\"T_9df4a_level0_col6\" class=\"col_heading level0 col6\" >MAPE</th>\n",
              "      <th id=\"T_9df4a_level0_col7\" class=\"col_heading level0 col7\" >TT (Sec)</th>\n",
              "    </tr>\n",
              "  </thead>\n",
              "  <tbody>\n",
              "    <tr>\n",
              "      <th id=\"T_9df4a_level0_row0\" class=\"row_heading level0 row0\" >lightgbm</th>\n",
              "      <td id=\"T_9df4a_row0_col0\" class=\"data row0 col0\" >Light Gradient Boosting Machine</td>\n",
              "      <td id=\"T_9df4a_row0_col1\" class=\"data row0 col1\" >1.9893</td>\n",
              "      <td id=\"T_9df4a_row0_col2\" class=\"data row0 col2\" >8.0953</td>\n",
              "      <td id=\"T_9df4a_row0_col3\" class=\"data row0 col3\" >2.7681</td>\n",
              "      <td id=\"T_9df4a_row0_col4\" class=\"data row0 col4\" >0.8643</td>\n",
              "      <td id=\"T_9df4a_row0_col5\" class=\"data row0 col5\" >0.1051</td>\n",
              "      <td id=\"T_9df4a_row0_col6\" class=\"data row0 col6\" >0.0839</td>\n",
              "      <td id=\"T_9df4a_row0_col7\" class=\"data row0 col7\" >0.0690</td>\n",
              "    </tr>\n",
              "    <tr>\n",
              "      <th id=\"T_9df4a_level0_row1\" class=\"row_heading level0 row1\" >et</th>\n",
              "      <td id=\"T_9df4a_row1_col0\" class=\"data row1 col0\" >Extra Trees Regressor</td>\n",
              "      <td id=\"T_9df4a_row1_col1\" class=\"data row1 col1\" >1.9990</td>\n",
              "      <td id=\"T_9df4a_row1_col2\" class=\"data row1 col2\" >8.1298</td>\n",
              "      <td id=\"T_9df4a_row1_col3\" class=\"data row1 col3\" >2.7833</td>\n",
              "      <td id=\"T_9df4a_row1_col4\" class=\"data row1 col4\" >0.8641</td>\n",
              "      <td id=\"T_9df4a_row1_col5\" class=\"data row1 col5\" >0.1033</td>\n",
              "      <td id=\"T_9df4a_row1_col6\" class=\"data row1 col6\" >0.0831</td>\n",
              "      <td id=\"T_9df4a_row1_col7\" class=\"data row1 col7\" >0.1520</td>\n",
              "    </tr>\n",
              "    <tr>\n",
              "      <th id=\"T_9df4a_level0_row2\" class=\"row_heading level0 row2\" >gbr</th>\n",
              "      <td id=\"T_9df4a_row2_col0\" class=\"data row2 col0\" >Gradient Boosting Regressor</td>\n",
              "      <td id=\"T_9df4a_row2_col1\" class=\"data row2 col1\" >2.0358</td>\n",
              "      <td id=\"T_9df4a_row2_col2\" class=\"data row2 col2\" >8.3312</td>\n",
              "      <td id=\"T_9df4a_row2_col3\" class=\"data row2 col3\" >2.8163</td>\n",
              "      <td id=\"T_9df4a_row2_col4\" class=\"data row2 col4\" >0.8596</td>\n",
              "      <td id=\"T_9df4a_row2_col5\" class=\"data row2 col5\" >0.1069</td>\n",
              "      <td id=\"T_9df4a_row2_col6\" class=\"data row2 col6\" >0.0857</td>\n",
              "      <td id=\"T_9df4a_row2_col7\" class=\"data row2 col7\" >0.1720</td>\n",
              "    </tr>\n",
              "    <tr>\n",
              "      <th id=\"T_9df4a_level0_row3\" class=\"row_heading level0 row3\" >rf</th>\n",
              "      <td id=\"T_9df4a_row3_col0\" class=\"data row3 col0\" >Random Forest Regressor</td>\n",
              "      <td id=\"T_9df4a_row3_col1\" class=\"data row3 col1\" >2.0581</td>\n",
              "      <td id=\"T_9df4a_row3_col2\" class=\"data row3 col2\" >8.5251</td>\n",
              "      <td id=\"T_9df4a_row3_col3\" class=\"data row3 col3\" >2.8443</td>\n",
              "      <td id=\"T_9df4a_row3_col4\" class=\"data row3 col4\" >0.8583</td>\n",
              "      <td id=\"T_9df4a_row3_col5\" class=\"data row3 col5\" >0.1075</td>\n",
              "      <td id=\"T_9df4a_row3_col6\" class=\"data row3 col6\" >0.0867</td>\n",
              "      <td id=\"T_9df4a_row3_col7\" class=\"data row3 col7\" >0.2180</td>\n",
              "    </tr>\n",
              "    <tr>\n",
              "      <th id=\"T_9df4a_level0_row4\" class=\"row_heading level0 row4\" >xgboost</th>\n",
              "      <td id=\"T_9df4a_row4_col0\" class=\"data row4 col0\" >Extreme Gradient Boosting</td>\n",
              "      <td id=\"T_9df4a_row4_col1\" class=\"data row4 col1\" >2.2090</td>\n",
              "      <td id=\"T_9df4a_row4_col2\" class=\"data row4 col2\" >9.9827</td>\n",
              "      <td id=\"T_9df4a_row4_col3\" class=\"data row4 col3\" >3.0861</td>\n",
              "      <td id=\"T_9df4a_row4_col4\" class=\"data row4 col4\" >0.8339</td>\n",
              "      <td id=\"T_9df4a_row4_col5\" class=\"data row4 col5\" >0.1143</td>\n",
              "      <td id=\"T_9df4a_row4_col6\" class=\"data row4 col6\" >0.0912</td>\n",
              "      <td id=\"T_9df4a_row4_col7\" class=\"data row4 col7\" >0.0940</td>\n",
              "    </tr>\n",
              "    <tr>\n",
              "      <th id=\"T_9df4a_level0_row5\" class=\"row_heading level0 row5\" >ada</th>\n",
              "      <td id=\"T_9df4a_row5_col0\" class=\"data row5 col0\" >AdaBoost Regressor</td>\n",
              "      <td id=\"T_9df4a_row5_col1\" class=\"data row5 col1\" >2.3224</td>\n",
              "      <td id=\"T_9df4a_row5_col2\" class=\"data row5 col2\" >10.3150</td>\n",
              "      <td id=\"T_9df4a_row5_col3\" class=\"data row5 col3\" >3.1452</td>\n",
              "      <td id=\"T_9df4a_row5_col4\" class=\"data row5 col4\" >0.8285</td>\n",
              "      <td id=\"T_9df4a_row5_col5\" class=\"data row5 col5\" >0.1225</td>\n",
              "      <td id=\"T_9df4a_row5_col6\" class=\"data row5 col6\" >0.1019</td>\n",
              "      <td id=\"T_9df4a_row5_col7\" class=\"data row5 col7\" >0.1260</td>\n",
              "    </tr>\n",
              "    <tr>\n",
              "      <th id=\"T_9df4a_level0_row6\" class=\"row_heading level0 row6\" >ridge</th>\n",
              "      <td id=\"T_9df4a_row6_col0\" class=\"data row6 col0\" >Ridge Regression</td>\n",
              "      <td id=\"T_9df4a_row6_col1\" class=\"data row6 col1\" >2.6409</td>\n",
              "      <td id=\"T_9df4a_row6_col2\" class=\"data row6 col2\" >11.8073</td>\n",
              "      <td id=\"T_9df4a_row6_col3\" class=\"data row6 col3\" >3.3947</td>\n",
              "      <td id=\"T_9df4a_row6_col4\" class=\"data row6 col4\" >0.8101</td>\n",
              "      <td id=\"T_9df4a_row6_col5\" class=\"data row6 col5\" >0.1525</td>\n",
              "      <td id=\"T_9df4a_row6_col6\" class=\"data row6 col6\" >0.1230</td>\n",
              "      <td id=\"T_9df4a_row6_col7\" class=\"data row6 col7\" >0.0530</td>\n",
              "    </tr>\n",
              "    <tr>\n",
              "      <th id=\"T_9df4a_level0_row7\" class=\"row_heading level0 row7\" >lr</th>\n",
              "      <td id=\"T_9df4a_row7_col0\" class=\"data row7 col0\" >Linear Regression</td>\n",
              "      <td id=\"T_9df4a_row7_col1\" class=\"data row7 col1\" >2.6419</td>\n",
              "      <td id=\"T_9df4a_row7_col2\" class=\"data row7 col2\" >11.8152</td>\n",
              "      <td id=\"T_9df4a_row7_col3\" class=\"data row7 col3\" >3.3960</td>\n",
              "      <td id=\"T_9df4a_row7_col4\" class=\"data row7 col4\" >0.8100</td>\n",
              "      <td id=\"T_9df4a_row7_col5\" class=\"data row7 col5\" >0.1525</td>\n",
              "      <td id=\"T_9df4a_row7_col6\" class=\"data row7 col6\" >0.1230</td>\n",
              "      <td id=\"T_9df4a_row7_col7\" class=\"data row7 col7\" >0.0600</td>\n",
              "    </tr>\n",
              "    <tr>\n",
              "      <th id=\"T_9df4a_level0_row8\" class=\"row_heading level0 row8\" >br</th>\n",
              "      <td id=\"T_9df4a_row8_col0\" class=\"data row8 col0\" >Bayesian Ridge</td>\n",
              "      <td id=\"T_9df4a_row8_col1\" class=\"data row8 col1\" >2.6506</td>\n",
              "      <td id=\"T_9df4a_row8_col2\" class=\"data row8 col2\" >11.8796</td>\n",
              "      <td id=\"T_9df4a_row8_col3\" class=\"data row8 col3\" >3.4028</td>\n",
              "      <td id=\"T_9df4a_row8_col4\" class=\"data row8 col4\" >0.8095</td>\n",
              "      <td id=\"T_9df4a_row8_col5\" class=\"data row8 col5\" >0.1538</td>\n",
              "      <td id=\"T_9df4a_row8_col6\" class=\"data row8 col6\" >0.1236</td>\n",
              "      <td id=\"T_9df4a_row8_col7\" class=\"data row8 col7\" >0.0950</td>\n",
              "    </tr>\n",
              "    <tr>\n",
              "      <th id=\"T_9df4a_level0_row9\" class=\"row_heading level0 row9\" >huber</th>\n",
              "      <td id=\"T_9df4a_row9_col0\" class=\"data row9 col0\" >Huber Regressor</td>\n",
              "      <td id=\"T_9df4a_row9_col1\" class=\"data row9 col1\" >2.6588</td>\n",
              "      <td id=\"T_9df4a_row9_col2\" class=\"data row9 col2\" >12.5575</td>\n",
              "      <td id=\"T_9df4a_row9_col3\" class=\"data row9 col3\" >3.4889</td>\n",
              "      <td id=\"T_9df4a_row9_col4\" class=\"data row9 col4\" >0.8006</td>\n",
              "      <td id=\"T_9df4a_row9_col5\" class=\"data row9 col5\" >0.1496</td>\n",
              "      <td id=\"T_9df4a_row9_col6\" class=\"data row9 col6\" >0.1197</td>\n",
              "      <td id=\"T_9df4a_row9_col7\" class=\"data row9 col7\" >0.0890</td>\n",
              "    </tr>\n",
              "    <tr>\n",
              "      <th id=\"T_9df4a_level0_row10\" class=\"row_heading level0 row10\" >en</th>\n",
              "      <td id=\"T_9df4a_row10_col0\" class=\"data row10 col0\" >Elastic Net</td>\n",
              "      <td id=\"T_9df4a_row10_col1\" class=\"data row10 col1\" >2.7182</td>\n",
              "      <td id=\"T_9df4a_row10_col2\" class=\"data row10 col2\" >12.5545</td>\n",
              "      <td id=\"T_9df4a_row10_col3\" class=\"data row10 col3\" >3.4916</td>\n",
              "      <td id=\"T_9df4a_row10_col4\" class=\"data row10 col4\" >0.7993</td>\n",
              "      <td id=\"T_9df4a_row10_col5\" class=\"data row10 col5\" >0.1571</td>\n",
              "      <td id=\"T_9df4a_row10_col6\" class=\"data row10 col6\" >0.1256</td>\n",
              "      <td id=\"T_9df4a_row10_col7\" class=\"data row10 col7\" >0.0530</td>\n",
              "    </tr>\n",
              "    <tr>\n",
              "      <th id=\"T_9df4a_level0_row11\" class=\"row_heading level0 row11\" >lasso</th>\n",
              "      <td id=\"T_9df4a_row11_col0\" class=\"data row11 col0\" >Lasso Regression</td>\n",
              "      <td id=\"T_9df4a_row11_col1\" class=\"data row11 col1\" >2.7141</td>\n",
              "      <td id=\"T_9df4a_row11_col2\" class=\"data row11 col2\" >12.5659</td>\n",
              "      <td id=\"T_9df4a_row11_col3\" class=\"data row11 col3\" >3.4926</td>\n",
              "      <td id=\"T_9df4a_row11_col4\" class=\"data row11 col4\" >0.7992</td>\n",
              "      <td id=\"T_9df4a_row11_col5\" class=\"data row11 col5\" >0.1566</td>\n",
              "      <td id=\"T_9df4a_row11_col6\" class=\"data row11 col6\" >0.1252</td>\n",
              "      <td id=\"T_9df4a_row11_col7\" class=\"data row11 col7\" >0.0560</td>\n",
              "    </tr>\n",
              "    <tr>\n",
              "      <th id=\"T_9df4a_level0_row12\" class=\"row_heading level0 row12\" >llar</th>\n",
              "      <td id=\"T_9df4a_row12_col0\" class=\"data row12 col0\" >Lasso Least Angle Regression</td>\n",
              "      <td id=\"T_9df4a_row12_col1\" class=\"data row12 col1\" >2.7141</td>\n",
              "      <td id=\"T_9df4a_row12_col2\" class=\"data row12 col2\" >12.5657</td>\n",
              "      <td id=\"T_9df4a_row12_col3\" class=\"data row12 col3\" >3.4925</td>\n",
              "      <td id=\"T_9df4a_row12_col4\" class=\"data row12 col4\" >0.7992</td>\n",
              "      <td id=\"T_9df4a_row12_col5\" class=\"data row12 col5\" >0.1566</td>\n",
              "      <td id=\"T_9df4a_row12_col6\" class=\"data row12 col6\" >0.1252</td>\n",
              "      <td id=\"T_9df4a_row12_col7\" class=\"data row12 col7\" >0.0770</td>\n",
              "    </tr>\n",
              "    <tr>\n",
              "      <th id=\"T_9df4a_level0_row13\" class=\"row_heading level0 row13\" >lar</th>\n",
              "      <td id=\"T_9df4a_row13_col0\" class=\"data row13 col0\" >Least Angle Regression</td>\n",
              "      <td id=\"T_9df4a_row13_col1\" class=\"data row13 col1\" >2.7328</td>\n",
              "      <td id=\"T_9df4a_row13_col2\" class=\"data row13 col2\" >12.9452</td>\n",
              "      <td id=\"T_9df4a_row13_col3\" class=\"data row13 col3\" >3.5525</td>\n",
              "      <td id=\"T_9df4a_row13_col4\" class=\"data row13 col4\" >0.7883</td>\n",
              "      <td id=\"T_9df4a_row13_col5\" class=\"data row13 col5\" >0.1578</td>\n",
              "      <td id=\"T_9df4a_row13_col6\" class=\"data row13 col6\" >0.1262</td>\n",
              "      <td id=\"T_9df4a_row13_col7\" class=\"data row13 col7\" >0.0680</td>\n",
              "    </tr>\n",
              "    <tr>\n",
              "      <th id=\"T_9df4a_level0_row14\" class=\"row_heading level0 row14\" >dt</th>\n",
              "      <td id=\"T_9df4a_row14_col0\" class=\"data row14 col0\" >Decision Tree Regressor</td>\n",
              "      <td id=\"T_9df4a_row14_col1\" class=\"data row14 col1\" >2.7721</td>\n",
              "      <td id=\"T_9df4a_row14_col2\" class=\"data row14 col2\" >14.6026</td>\n",
              "      <td id=\"T_9df4a_row14_col3\" class=\"data row14 col3\" >3.7929</td>\n",
              "      <td id=\"T_9df4a_row14_col4\" class=\"data row14 col4\" >0.7551</td>\n",
              "      <td id=\"T_9df4a_row14_col5\" class=\"data row14 col5\" >0.1400</td>\n",
              "      <td id=\"T_9df4a_row14_col6\" class=\"data row14 col6\" >0.1150</td>\n",
              "      <td id=\"T_9df4a_row14_col7\" class=\"data row14 col7\" >0.0520</td>\n",
              "    </tr>\n",
              "    <tr>\n",
              "      <th id=\"T_9df4a_level0_row15\" class=\"row_heading level0 row15\" >omp</th>\n",
              "      <td id=\"T_9df4a_row15_col0\" class=\"data row15 col0\" >Orthogonal Matching Pursuit</td>\n",
              "      <td id=\"T_9df4a_row15_col1\" class=\"data row15 col1\" >3.2951</td>\n",
              "      <td id=\"T_9df4a_row15_col2\" class=\"data row15 col2\" >19.1621</td>\n",
              "      <td id=\"T_9df4a_row15_col3\" class=\"data row15 col3\" >4.3174</td>\n",
              "      <td id=\"T_9df4a_row15_col4\" class=\"data row15 col4\" >0.6932</td>\n",
              "      <td id=\"T_9df4a_row15_col5\" class=\"data row15 col5\" >0.1766</td>\n",
              "      <td id=\"T_9df4a_row15_col6\" class=\"data row15 col6\" >0.1464</td>\n",
              "      <td id=\"T_9df4a_row15_col7\" class=\"data row15 col7\" >0.1120</td>\n",
              "    </tr>\n",
              "    <tr>\n",
              "      <th id=\"T_9df4a_level0_row16\" class=\"row_heading level0 row16\" >knn</th>\n",
              "      <td id=\"T_9df4a_row16_col0\" class=\"data row16 col0\" >K Neighbors Regressor</td>\n",
              "      <td id=\"T_9df4a_row16_col1\" class=\"data row16 col1\" >3.2500</td>\n",
              "      <td id=\"T_9df4a_row16_col2\" class=\"data row16 col2\" >18.8831</td>\n",
              "      <td id=\"T_9df4a_row16_col3\" class=\"data row16 col3\" >4.2943</td>\n",
              "      <td id=\"T_9df4a_row16_col4\" class=\"data row16 col4\" >0.6908</td>\n",
              "      <td id=\"T_9df4a_row16_col5\" class=\"data row16 col5\" >0.1648</td>\n",
              "      <td id=\"T_9df4a_row16_col6\" class=\"data row16 col6\" >0.1386</td>\n",
              "      <td id=\"T_9df4a_row16_col7\" class=\"data row16 col7\" >0.0750</td>\n",
              "    </tr>\n",
              "    <tr>\n",
              "      <th id=\"T_9df4a_level0_row17\" class=\"row_heading level0 row17\" >dummy</th>\n",
              "      <td id=\"T_9df4a_row17_col0\" class=\"data row17 col0\" >Dummy Regressor</td>\n",
              "      <td id=\"T_9df4a_row17_col1\" class=\"data row17 col1\" >6.7414</td>\n",
              "      <td id=\"T_9df4a_row17_col2\" class=\"data row17 col2\" >63.4687</td>\n",
              "      <td id=\"T_9df4a_row17_col3\" class=\"data row17 col3\" >7.9391</td>\n",
              "      <td id=\"T_9df4a_row17_col4\" class=\"data row17 col4\" >-0.0340</td>\n",
              "      <td id=\"T_9df4a_row17_col5\" class=\"data row17 col5\" >0.3327</td>\n",
              "      <td id=\"T_9df4a_row17_col6\" class=\"data row17 col6\" >0.3262</td>\n",
              "      <td id=\"T_9df4a_row17_col7\" class=\"data row17 col7\" >0.0390</td>\n",
              "    </tr>\n",
              "    <tr>\n",
              "      <th id=\"T_9df4a_level0_row18\" class=\"row_heading level0 row18\" >par</th>\n",
              "      <td id=\"T_9df4a_row18_col0\" class=\"data row18 col0\" >Passive Aggressive Regressor</td>\n",
              "      <td id=\"T_9df4a_row18_col1\" class=\"data row18 col1\" >7.3187</td>\n",
              "      <td id=\"T_9df4a_row18_col2\" class=\"data row18 col2\" >86.2785</td>\n",
              "      <td id=\"T_9df4a_row18_col3\" class=\"data row18 col3\" >9.1612</td>\n",
              "      <td id=\"T_9df4a_row18_col4\" class=\"data row18 col4\" >-0.4652</td>\n",
              "      <td id=\"T_9df4a_row18_col5\" class=\"data row18 col5\" >0.4273</td>\n",
              "      <td id=\"T_9df4a_row18_col6\" class=\"data row18 col6\" >0.3624</td>\n",
              "      <td id=\"T_9df4a_row18_col7\" class=\"data row18 col7\" >0.0610</td>\n",
              "    </tr>\n",
              "  </tbody>\n",
              "</table>\n"
            ]
          },
          "metadata": {}
        },
        {
          "output_type": "display_data",
          "data": {
            "text/plain": [
              "Processing:   0%|          | 0/81 [00:00<?, ?it/s]"
            ],
            "application/vnd.jupyter.widget-view+json": {
              "version_major": 2,
              "version_minor": 0,
              "model_id": "1f8aac5ce1804659a69ca0672696c007"
            }
          },
          "metadata": {
            "application/vnd.jupyter.widget-view+json": {
              "colab": {
                "custom_widget_manager": {
                  "url": "https://ssl.gstatic.com/colaboratory-static/widgets/colab-cdn-widget-manager/2b70e893a8ba7c0f/manager.min.js"
                }
              }
            }
          }
        },
        {
          "output_type": "display_data",
          "data": {
            "text/plain": [
              "<IPython.core.display.HTML object>"
            ],
            "text/html": []
          },
          "metadata": {}
        }
      ]
    },
    {
      "cell_type": "code",
      "source": [
        "# Display the best model name\n",
        "print(\" Best Model Found:\", best_model)"
      ],
      "metadata": {
        "colab": {
          "base_uri": "https://localhost:8080/"
        },
        "id": "4IUhPmi2PGop",
        "outputId": "17b0816c-852c-486c-829a-2144999c5d98"
      },
      "execution_count": null,
      "outputs": [
        {
          "output_type": "stream",
          "name": "stdout",
          "text": [
            " Best Model Found: LGBMRegressor(n_jobs=-1, random_state=42)\n"
          ]
        }
      ]
    },
    {
      "cell_type": "code",
      "source": [
        "# Specifically create a Gradient Boosting Regressor (gbr)\n",
        "gbr_model = create_model('gbr')"
      ],
      "metadata": {
        "colab": {
          "base_uri": "https://localhost:8080/",
          "height": 457,
          "referenced_widgets": [
            "0cefcc886f4d48cb88ee06308e4d123e",
            "c08b9dde686f4d23ab07438b66a0ac48",
            "9820f8c7555e4505b82e10d5f05f0f95",
            "2e3796e6825144c4981c47aa1e92fee6",
            "cf9aa7d1cdc54131842522784866faff",
            "21b8dcac66214d18bb2be66dd307fb0c",
            "70f884ebd5ec431588a4d0fd39d76198",
            "b8e7c21827eb4ffbbea313c864565375",
            "4eecadfa9c33438f8af6e336e6adb965",
            "1a4eebd42cb44ee9a5774718796a8475",
            "d6bae0d946e740a49f673649d6624320"
          ]
        },
        "id": "_j0b0ALJPI57",
        "outputId": "94ee05a4-1c9c-4c0e-c389-569da079e917"
      },
      "execution_count": null,
      "outputs": [
        {
          "output_type": "display_data",
          "data": {
            "text/plain": [
              "<IPython.core.display.HTML object>"
            ],
            "text/html": []
          },
          "metadata": {}
        },
        {
          "output_type": "display_data",
          "data": {
            "text/plain": [
              "<pandas.io.formats.style.Styler at 0x7b4ea0cfa9d0>"
            ],
            "text/html": [
              "<style type=\"text/css\">\n",
              "#T_132e6_row10_col0, #T_132e6_row10_col1, #T_132e6_row10_col2, #T_132e6_row10_col3, #T_132e6_row10_col4, #T_132e6_row10_col5 {\n",
              "  background: yellow;\n",
              "}\n",
              "</style>\n",
              "<table id=\"T_132e6\" class=\"dataframe\">\n",
              "  <thead>\n",
              "    <tr>\n",
              "      <th class=\"blank level0\" >&nbsp;</th>\n",
              "      <th id=\"T_132e6_level0_col0\" class=\"col_heading level0 col0\" >MAE</th>\n",
              "      <th id=\"T_132e6_level0_col1\" class=\"col_heading level0 col1\" >MSE</th>\n",
              "      <th id=\"T_132e6_level0_col2\" class=\"col_heading level0 col2\" >RMSE</th>\n",
              "      <th id=\"T_132e6_level0_col3\" class=\"col_heading level0 col3\" >R2</th>\n",
              "      <th id=\"T_132e6_level0_col4\" class=\"col_heading level0 col4\" >RMSLE</th>\n",
              "      <th id=\"T_132e6_level0_col5\" class=\"col_heading level0 col5\" >MAPE</th>\n",
              "    </tr>\n",
              "    <tr>\n",
              "      <th class=\"index_name level0\" >Fold</th>\n",
              "      <th class=\"blank col0\" >&nbsp;</th>\n",
              "      <th class=\"blank col1\" >&nbsp;</th>\n",
              "      <th class=\"blank col2\" >&nbsp;</th>\n",
              "      <th class=\"blank col3\" >&nbsp;</th>\n",
              "      <th class=\"blank col4\" >&nbsp;</th>\n",
              "      <th class=\"blank col5\" >&nbsp;</th>\n",
              "    </tr>\n",
              "  </thead>\n",
              "  <tbody>\n",
              "    <tr>\n",
              "      <th id=\"T_132e6_level0_row0\" class=\"row_heading level0 row0\" >0</th>\n",
              "      <td id=\"T_132e6_row0_col0\" class=\"data row0 col0\" >1.9817</td>\n",
              "      <td id=\"T_132e6_row0_col1\" class=\"data row0 col1\" >8.3694</td>\n",
              "      <td id=\"T_132e6_row0_col2\" class=\"data row0 col2\" >2.8930</td>\n",
              "      <td id=\"T_132e6_row0_col3\" class=\"data row0 col3\" >0.8467</td>\n",
              "      <td id=\"T_132e6_row0_col4\" class=\"data row0 col4\" >0.1052</td>\n",
              "      <td id=\"T_132e6_row0_col5\" class=\"data row0 col5\" >0.0874</td>\n",
              "    </tr>\n",
              "    <tr>\n",
              "      <th id=\"T_132e6_level0_row1\" class=\"row_heading level0 row1\" >1</th>\n",
              "      <td id=\"T_132e6_row1_col0\" class=\"data row1 col0\" >2.7199</td>\n",
              "      <td id=\"T_132e6_row1_col1\" class=\"data row1 col1\" >12.0633</td>\n",
              "      <td id=\"T_132e6_row1_col2\" class=\"data row1 col2\" >3.4732</td>\n",
              "      <td id=\"T_132e6_row1_col3\" class=\"data row1 col3\" >0.7791</td>\n",
              "      <td id=\"T_132e6_row1_col4\" class=\"data row1 col4\" >0.1239</td>\n",
              "      <td id=\"T_132e6_row1_col5\" class=\"data row1 col5\" >0.1087</td>\n",
              "    </tr>\n",
              "    <tr>\n",
              "      <th id=\"T_132e6_level0_row2\" class=\"row_heading level0 row2\" >2</th>\n",
              "      <td id=\"T_132e6_row2_col0\" class=\"data row2 col0\" >1.2714</td>\n",
              "      <td id=\"T_132e6_row2_col1\" class=\"data row2 col1\" >2.9029</td>\n",
              "      <td id=\"T_132e6_row2_col2\" class=\"data row2 col2\" >1.7038</td>\n",
              "      <td id=\"T_132e6_row2_col3\" class=\"data row2 col3\" >0.9613</td>\n",
              "      <td id=\"T_132e6_row2_col4\" class=\"data row2 col4\" >0.0798</td>\n",
              "      <td id=\"T_132e6_row2_col5\" class=\"data row2 col5\" >0.0623</td>\n",
              "    </tr>\n",
              "    <tr>\n",
              "      <th id=\"T_132e6_level0_row3\" class=\"row_heading level0 row3\" >3</th>\n",
              "      <td id=\"T_132e6_row3_col0\" class=\"data row3 col0\" >2.4841</td>\n",
              "      <td id=\"T_132e6_row3_col1\" class=\"data row3 col1\" >15.6152</td>\n",
              "      <td id=\"T_132e6_row3_col2\" class=\"data row3 col2\" >3.9516</td>\n",
              "      <td id=\"T_132e6_row3_col3\" class=\"data row3 col3\" >0.7088</td>\n",
              "      <td id=\"T_132e6_row3_col4\" class=\"data row3 col4\" >0.1405</td>\n",
              "      <td id=\"T_132e6_row3_col5\" class=\"data row3 col5\" >0.0948</td>\n",
              "    </tr>\n",
              "    <tr>\n",
              "      <th id=\"T_132e6_level0_row4\" class=\"row_heading level0 row4\" >4</th>\n",
              "      <td id=\"T_132e6_row4_col0\" class=\"data row4 col0\" >2.6242</td>\n",
              "      <td id=\"T_132e6_row4_col1\" class=\"data row4 col1\" >12.1762</td>\n",
              "      <td id=\"T_132e6_row4_col2\" class=\"data row4 col2\" >3.4894</td>\n",
              "      <td id=\"T_132e6_row4_col3\" class=\"data row4 col3\" >0.8552</td>\n",
              "      <td id=\"T_132e6_row4_col4\" class=\"data row4 col4\" >0.1269</td>\n",
              "      <td id=\"T_132e6_row4_col5\" class=\"data row4 col5\" >0.1084</td>\n",
              "    </tr>\n",
              "    <tr>\n",
              "      <th id=\"T_132e6_level0_row5\" class=\"row_heading level0 row5\" >5</th>\n",
              "      <td id=\"T_132e6_row5_col0\" class=\"data row5 col0\" >1.8647</td>\n",
              "      <td id=\"T_132e6_row5_col1\" class=\"data row5 col1\" >6.2296</td>\n",
              "      <td id=\"T_132e6_row5_col2\" class=\"data row5 col2\" >2.4959</td>\n",
              "      <td id=\"T_132e6_row5_col3\" class=\"data row5 col3\" >0.9163</td>\n",
              "      <td id=\"T_132e6_row5_col4\" class=\"data row5 col4\" >0.0977</td>\n",
              "      <td id=\"T_132e6_row5_col5\" class=\"data row5 col5\" >0.0807</td>\n",
              "    </tr>\n",
              "    <tr>\n",
              "      <th id=\"T_132e6_level0_row6\" class=\"row_heading level0 row6\" >6</th>\n",
              "      <td id=\"T_132e6_row6_col0\" class=\"data row6 col0\" >1.7317</td>\n",
              "      <td id=\"T_132e6_row6_col1\" class=\"data row6 col1\" >5.5602</td>\n",
              "      <td id=\"T_132e6_row6_col2\" class=\"data row6 col2\" >2.3580</td>\n",
              "      <td id=\"T_132e6_row6_col3\" class=\"data row6 col3\" >0.8925</td>\n",
              "      <td id=\"T_132e6_row6_col4\" class=\"data row6 col4\" >0.1032</td>\n",
              "      <td id=\"T_132e6_row6_col5\" class=\"data row6 col5\" >0.0841</td>\n",
              "    </tr>\n",
              "    <tr>\n",
              "      <th id=\"T_132e6_level0_row7\" class=\"row_heading level0 row7\" >7</th>\n",
              "      <td id=\"T_132e6_row7_col0\" class=\"data row7 col0\" >1.7273</td>\n",
              "      <td id=\"T_132e6_row7_col1\" class=\"data row7 col1\" >5.3604</td>\n",
              "      <td id=\"T_132e6_row7_col2\" class=\"data row7 col2\" >2.3153</td>\n",
              "      <td id=\"T_132e6_row7_col3\" class=\"data row7 col3\" >0.8903</td>\n",
              "      <td id=\"T_132e6_row7_col4\" class=\"data row7 col4\" >0.0933</td>\n",
              "      <td id=\"T_132e6_row7_col5\" class=\"data row7 col5\" >0.0766</td>\n",
              "    </tr>\n",
              "    <tr>\n",
              "      <th id=\"T_132e6_level0_row8\" class=\"row_heading level0 row8\" >8</th>\n",
              "      <td id=\"T_132e6_row8_col0\" class=\"data row8 col0\" >2.1785</td>\n",
              "      <td id=\"T_132e6_row8_col1\" class=\"data row8 col1\" >7.7477</td>\n",
              "      <td id=\"T_132e6_row8_col2\" class=\"data row8 col2\" >2.7835</td>\n",
              "      <td id=\"T_132e6_row8_col3\" class=\"data row8 col3\" >0.8682</td>\n",
              "      <td id=\"T_132e6_row8_col4\" class=\"data row8 col4\" >0.1029</td>\n",
              "      <td id=\"T_132e6_row8_col5\" class=\"data row8 col5\" >0.0863</td>\n",
              "    </tr>\n",
              "    <tr>\n",
              "      <th id=\"T_132e6_level0_row9\" class=\"row_heading level0 row9\" >9</th>\n",
              "      <td id=\"T_132e6_row9_col0\" class=\"data row9 col0\" >1.7749</td>\n",
              "      <td id=\"T_132e6_row9_col1\" class=\"data row9 col1\" >7.2870</td>\n",
              "      <td id=\"T_132e6_row9_col2\" class=\"data row9 col2\" >2.6994</td>\n",
              "      <td id=\"T_132e6_row9_col3\" class=\"data row9 col3\" >0.8779</td>\n",
              "      <td id=\"T_132e6_row9_col4\" class=\"data row9 col4\" >0.0958</td>\n",
              "      <td id=\"T_132e6_row9_col5\" class=\"data row9 col5\" >0.0673</td>\n",
              "    </tr>\n",
              "    <tr>\n",
              "      <th id=\"T_132e6_level0_row10\" class=\"row_heading level0 row10\" >Mean</th>\n",
              "      <td id=\"T_132e6_row10_col0\" class=\"data row10 col0\" >2.0358</td>\n",
              "      <td id=\"T_132e6_row10_col1\" class=\"data row10 col1\" >8.3312</td>\n",
              "      <td id=\"T_132e6_row10_col2\" class=\"data row10 col2\" >2.8163</td>\n",
              "      <td id=\"T_132e6_row10_col3\" class=\"data row10 col3\" >0.8596</td>\n",
              "      <td id=\"T_132e6_row10_col4\" class=\"data row10 col4\" >0.1069</td>\n",
              "      <td id=\"T_132e6_row10_col5\" class=\"data row10 col5\" >0.0857</td>\n",
              "    </tr>\n",
              "    <tr>\n",
              "      <th id=\"T_132e6_level0_row11\" class=\"row_heading level0 row11\" >Std</th>\n",
              "      <td id=\"T_132e6_row11_col0\" class=\"data row11 col0\" >0.4368</td>\n",
              "      <td id=\"T_132e6_row11_col1\" class=\"data row11 col1\" >3.6550</td>\n",
              "      <td id=\"T_132e6_row11_col2\" class=\"data row11 col2\" >0.6321</td>\n",
              "      <td id=\"T_132e6_row11_col3\" class=\"data row11 col3\" >0.0674</td>\n",
              "      <td id=\"T_132e6_row11_col4\" class=\"data row11 col4\" >0.0173</td>\n",
              "      <td id=\"T_132e6_row11_col5\" class=\"data row11 col5\" >0.0146</td>\n",
              "    </tr>\n",
              "  </tbody>\n",
              "</table>\n"
            ]
          },
          "metadata": {}
        },
        {
          "output_type": "display_data",
          "data": {
            "text/plain": [
              "Processing:   0%|          | 0/4 [00:00<?, ?it/s]"
            ],
            "application/vnd.jupyter.widget-view+json": {
              "version_major": 2,
              "version_minor": 0,
              "model_id": "0cefcc886f4d48cb88ee06308e4d123e"
            }
          },
          "metadata": {
            "application/vnd.jupyter.widget-view+json": {
              "colab": {
                "custom_widget_manager": {
                  "url": "https://ssl.gstatic.com/colaboratory-static/widgets/colab-cdn-widget-manager/2b70e893a8ba7c0f/manager.min.js"
                }
              }
            }
          }
        },
        {
          "output_type": "display_data",
          "data": {
            "text/plain": [
              "<IPython.core.display.HTML object>"
            ],
            "text/html": []
          },
          "metadata": {}
        }
      ]
    },
    {
      "cell_type": "code",
      "source": [
        "# Tune the GBR model\n",
        "tuned_gbr = tune_model(gbr_model)"
      ],
      "metadata": {
        "colab": {
          "base_uri": "https://localhost:8080/",
          "height": 474,
          "referenced_widgets": [
            "b50e3c71c9f54a3c9e920838abd7ebdb",
            "ccb658814b3d4c98928bc072c2232150",
            "c110f6967e0146d28bb32e3e6e76e3ed",
            "30123846ae7c439fb7768bec5715ef76",
            "cf71716519474247bd2b0fd610f8fe5e",
            "c91420bd1b8b469696b836af49cc17e4",
            "0ea9d76120a04930814ffda7a06184a0",
            "888aa0b8fe914e059e6a35a3119154f9",
            "e842ba1034df4a3a9d51832fbe29d9e2",
            "c72e1ea3480e4889868bbf647a5d3849",
            "909bf0ca265c4605b6fade6864fe4901"
          ]
        },
        "id": "yx1tmoHdPIxr",
        "outputId": "fe9d3aa7-cca1-4160-ec38-c7964a164ec7"
      },
      "execution_count": null,
      "outputs": [
        {
          "output_type": "display_data",
          "data": {
            "text/plain": [
              "<IPython.core.display.HTML object>"
            ],
            "text/html": []
          },
          "metadata": {}
        },
        {
          "output_type": "display_data",
          "data": {
            "text/plain": [
              "<pandas.io.formats.style.Styler at 0x7b4ea133da50>"
            ],
            "text/html": [
              "<style type=\"text/css\">\n",
              "#T_b9d69_row10_col0, #T_b9d69_row10_col1, #T_b9d69_row10_col2, #T_b9d69_row10_col3, #T_b9d69_row10_col4, #T_b9d69_row10_col5 {\n",
              "  background: yellow;\n",
              "}\n",
              "</style>\n",
              "<table id=\"T_b9d69\" class=\"dataframe\">\n",
              "  <thead>\n",
              "    <tr>\n",
              "      <th class=\"blank level0\" >&nbsp;</th>\n",
              "      <th id=\"T_b9d69_level0_col0\" class=\"col_heading level0 col0\" >MAE</th>\n",
              "      <th id=\"T_b9d69_level0_col1\" class=\"col_heading level0 col1\" >MSE</th>\n",
              "      <th id=\"T_b9d69_level0_col2\" class=\"col_heading level0 col2\" >RMSE</th>\n",
              "      <th id=\"T_b9d69_level0_col3\" class=\"col_heading level0 col3\" >R2</th>\n",
              "      <th id=\"T_b9d69_level0_col4\" class=\"col_heading level0 col4\" >RMSLE</th>\n",
              "      <th id=\"T_b9d69_level0_col5\" class=\"col_heading level0 col5\" >MAPE</th>\n",
              "    </tr>\n",
              "    <tr>\n",
              "      <th class=\"index_name level0\" >Fold</th>\n",
              "      <th class=\"blank col0\" >&nbsp;</th>\n",
              "      <th class=\"blank col1\" >&nbsp;</th>\n",
              "      <th class=\"blank col2\" >&nbsp;</th>\n",
              "      <th class=\"blank col3\" >&nbsp;</th>\n",
              "      <th class=\"blank col4\" >&nbsp;</th>\n",
              "      <th class=\"blank col5\" >&nbsp;</th>\n",
              "    </tr>\n",
              "  </thead>\n",
              "  <tbody>\n",
              "    <tr>\n",
              "      <th id=\"T_b9d69_level0_row0\" class=\"row_heading level0 row0\" >0</th>\n",
              "      <td id=\"T_b9d69_row0_col0\" class=\"data row0 col0\" >1.7844</td>\n",
              "      <td id=\"T_b9d69_row0_col1\" class=\"data row0 col1\" >7.5614</td>\n",
              "      <td id=\"T_b9d69_row0_col2\" class=\"data row0 col2\" >2.7498</td>\n",
              "      <td id=\"T_b9d69_row0_col3\" class=\"data row0 col3\" >0.8615</td>\n",
              "      <td id=\"T_b9d69_row0_col4\" class=\"data row0 col4\" >0.0991</td>\n",
              "      <td id=\"T_b9d69_row0_col5\" class=\"data row0 col5\" >0.0784</td>\n",
              "    </tr>\n",
              "    <tr>\n",
              "      <th id=\"T_b9d69_level0_row1\" class=\"row_heading level0 row1\" >1</th>\n",
              "      <td id=\"T_b9d69_row1_col0\" class=\"data row1 col0\" >2.5783</td>\n",
              "      <td id=\"T_b9d69_row1_col1\" class=\"data row1 col1\" >11.2969</td>\n",
              "      <td id=\"T_b9d69_row1_col2\" class=\"data row1 col2\" >3.3611</td>\n",
              "      <td id=\"T_b9d69_row1_col3\" class=\"data row1 col3\" >0.7932</td>\n",
              "      <td id=\"T_b9d69_row1_col4\" class=\"data row1 col4\" >0.1229</td>\n",
              "      <td id=\"T_b9d69_row1_col5\" class=\"data row1 col5\" >0.1048</td>\n",
              "    </tr>\n",
              "    <tr>\n",
              "      <th id=\"T_b9d69_level0_row2\" class=\"row_heading level0 row2\" >2</th>\n",
              "      <td id=\"T_b9d69_row2_col0\" class=\"data row2 col0\" >1.3422</td>\n",
              "      <td id=\"T_b9d69_row2_col1\" class=\"data row2 col1\" >3.5784</td>\n",
              "      <td id=\"T_b9d69_row2_col2\" class=\"data row2 col2\" >1.8917</td>\n",
              "      <td id=\"T_b9d69_row2_col3\" class=\"data row2 col3\" >0.9523</td>\n",
              "      <td id=\"T_b9d69_row2_col4\" class=\"data row2 col4\" >0.0814</td>\n",
              "      <td id=\"T_b9d69_row2_col5\" class=\"data row2 col5\" >0.0623</td>\n",
              "    </tr>\n",
              "    <tr>\n",
              "      <th id=\"T_b9d69_level0_row3\" class=\"row_heading level0 row3\" >3</th>\n",
              "      <td id=\"T_b9d69_row3_col0\" class=\"data row3 col0\" >2.2508</td>\n",
              "      <td id=\"T_b9d69_row3_col1\" class=\"data row3 col1\" >14.7639</td>\n",
              "      <td id=\"T_b9d69_row3_col2\" class=\"data row3 col2\" >3.8424</td>\n",
              "      <td id=\"T_b9d69_row3_col3\" class=\"data row3 col3\" >0.7246</td>\n",
              "      <td id=\"T_b9d69_row3_col4\" class=\"data row3 col4\" >0.1357</td>\n",
              "      <td id=\"T_b9d69_row3_col5\" class=\"data row3 col5\" >0.0854</td>\n",
              "    </tr>\n",
              "    <tr>\n",
              "      <th id=\"T_b9d69_level0_row4\" class=\"row_heading level0 row4\" >4</th>\n",
              "      <td id=\"T_b9d69_row4_col0\" class=\"data row4 col0\" >2.5259</td>\n",
              "      <td id=\"T_b9d69_row4_col1\" class=\"data row4 col1\" >11.7726</td>\n",
              "      <td id=\"T_b9d69_row4_col2\" class=\"data row4 col2\" >3.4311</td>\n",
              "      <td id=\"T_b9d69_row4_col3\" class=\"data row4 col3\" >0.8600</td>\n",
              "      <td id=\"T_b9d69_row4_col4\" class=\"data row4 col4\" >0.1241</td>\n",
              "      <td id=\"T_b9d69_row4_col5\" class=\"data row4 col5\" >0.1038</td>\n",
              "    </tr>\n",
              "    <tr>\n",
              "      <th id=\"T_b9d69_level0_row5\" class=\"row_heading level0 row5\" >5</th>\n",
              "      <td id=\"T_b9d69_row5_col0\" class=\"data row5 col0\" >2.2276</td>\n",
              "      <td id=\"T_b9d69_row5_col1\" class=\"data row5 col1\" >9.5778</td>\n",
              "      <td id=\"T_b9d69_row5_col2\" class=\"data row5 col2\" >3.0948</td>\n",
              "      <td id=\"T_b9d69_row5_col3\" class=\"data row5 col3\" >0.8714</td>\n",
              "      <td id=\"T_b9d69_row5_col4\" class=\"data row5 col4\" >0.1186</td>\n",
              "      <td id=\"T_b9d69_row5_col5\" class=\"data row5 col5\" >0.0959</td>\n",
              "    </tr>\n",
              "    <tr>\n",
              "      <th id=\"T_b9d69_level0_row6\" class=\"row_heading level0 row6\" >6</th>\n",
              "      <td id=\"T_b9d69_row6_col0\" class=\"data row6 col0\" >1.6353</td>\n",
              "      <td id=\"T_b9d69_row6_col1\" class=\"data row6 col1\" >4.9917</td>\n",
              "      <td id=\"T_b9d69_row6_col2\" class=\"data row6 col2\" >2.2342</td>\n",
              "      <td id=\"T_b9d69_row6_col3\" class=\"data row6 col3\" >0.9035</td>\n",
              "      <td id=\"T_b9d69_row6_col4\" class=\"data row6 col4\" >0.0948</td>\n",
              "      <td id=\"T_b9d69_row6_col5\" class=\"data row6 col5\" >0.0764</td>\n",
              "    </tr>\n",
              "    <tr>\n",
              "      <th id=\"T_b9d69_level0_row7\" class=\"row_heading level0 row7\" >7</th>\n",
              "      <td id=\"T_b9d69_row7_col0\" class=\"data row7 col0\" >1.7665</td>\n",
              "      <td id=\"T_b9d69_row7_col1\" class=\"data row7 col1\" >4.9498</td>\n",
              "      <td id=\"T_b9d69_row7_col2\" class=\"data row7 col2\" >2.2248</td>\n",
              "      <td id=\"T_b9d69_row7_col3\" class=\"data row7 col3\" >0.8987</td>\n",
              "      <td id=\"T_b9d69_row7_col4\" class=\"data row7 col4\" >0.0917</td>\n",
              "      <td id=\"T_b9d69_row7_col5\" class=\"data row7 col5\" >0.0788</td>\n",
              "    </tr>\n",
              "    <tr>\n",
              "      <th id=\"T_b9d69_level0_row8\" class=\"row_heading level0 row8\" >8</th>\n",
              "      <td id=\"T_b9d69_row8_col0\" class=\"data row8 col0\" >1.6518</td>\n",
              "      <td id=\"T_b9d69_row8_col1\" class=\"data row8 col1\" >5.4953</td>\n",
              "      <td id=\"T_b9d69_row8_col2\" class=\"data row8 col2\" >2.3442</td>\n",
              "      <td id=\"T_b9d69_row8_col3\" class=\"data row8 col3\" >0.9065</td>\n",
              "      <td id=\"T_b9d69_row8_col4\" class=\"data row8 col4\" >0.0858</td>\n",
              "      <td id=\"T_b9d69_row8_col5\" class=\"data row8 col5\" >0.0647</td>\n",
              "    </tr>\n",
              "    <tr>\n",
              "      <th id=\"T_b9d69_level0_row9\" class=\"row_heading level0 row9\" >9</th>\n",
              "      <td id=\"T_b9d69_row9_col0\" class=\"data row9 col0\" >1.7247</td>\n",
              "      <td id=\"T_b9d69_row9_col1\" class=\"data row9 col1\" >6.1123</td>\n",
              "      <td id=\"T_b9d69_row9_col2\" class=\"data row9 col2\" >2.4723</td>\n",
              "      <td id=\"T_b9d69_row9_col3\" class=\"data row9 col3\" >0.8976</td>\n",
              "      <td id=\"T_b9d69_row9_col4\" class=\"data row9 col4\" >0.0940</td>\n",
              "      <td id=\"T_b9d69_row9_col5\" class=\"data row9 col5\" >0.0698</td>\n",
              "    </tr>\n",
              "    <tr>\n",
              "      <th id=\"T_b9d69_level0_row10\" class=\"row_heading level0 row10\" >Mean</th>\n",
              "      <td id=\"T_b9d69_row10_col0\" class=\"data row10 col0\" >1.9488</td>\n",
              "      <td id=\"T_b9d69_row10_col1\" class=\"data row10 col1\" >8.0100</td>\n",
              "      <td id=\"T_b9d69_row10_col2\" class=\"data row10 col2\" >2.7646</td>\n",
              "      <td id=\"T_b9d69_row10_col3\" class=\"data row10 col3\" >0.8669</td>\n",
              "      <td id=\"T_b9d69_row10_col4\" class=\"data row10 col4\" >0.1048</td>\n",
              "      <td id=\"T_b9d69_row10_col5\" class=\"data row10 col5\" >0.0820</td>\n",
              "    </tr>\n",
              "    <tr>\n",
              "      <th id=\"T_b9d69_level0_row11\" class=\"row_heading level0 row11\" >Std</th>\n",
              "      <td id=\"T_b9d69_row11_col0\" class=\"data row11 col0\" >0.3954</td>\n",
              "      <td id=\"T_b9d69_row11_col1\" class=\"data row11 col1\" >3.4824</td>\n",
              "      <td id=\"T_b9d69_row11_col2\" class=\"data row11 col2\" >0.6056</td>\n",
              "      <td id=\"T_b9d69_row11_col3\" class=\"data row11 col3\" >0.0616</td>\n",
              "      <td id=\"T_b9d69_row11_col4\" class=\"data row11 col4\" >0.0178</td>\n",
              "      <td id=\"T_b9d69_row11_col5\" class=\"data row11 col5\" >0.0145</td>\n",
              "    </tr>\n",
              "  </tbody>\n",
              "</table>\n"
            ]
          },
          "metadata": {}
        },
        {
          "output_type": "display_data",
          "data": {
            "text/plain": [
              "Processing:   0%|          | 0/7 [00:00<?, ?it/s]"
            ],
            "application/vnd.jupyter.widget-view+json": {
              "version_major": 2,
              "version_minor": 0,
              "model_id": "b50e3c71c9f54a3c9e920838abd7ebdb"
            }
          },
          "metadata": {
            "application/vnd.jupyter.widget-view+json": {
              "colab": {
                "custom_widget_manager": {
                  "url": "https://ssl.gstatic.com/colaboratory-static/widgets/colab-cdn-widget-manager/2b70e893a8ba7c0f/manager.min.js"
                }
              }
            }
          }
        },
        {
          "output_type": "stream",
          "name": "stdout",
          "text": [
            "Fitting 10 folds for each of 10 candidates, totalling 100 fits\n"
          ]
        },
        {
          "output_type": "display_data",
          "data": {
            "text/plain": [
              "<IPython.core.display.HTML object>"
            ],
            "text/html": []
          },
          "metadata": {}
        }
      ]
    },
    {
      "cell_type": "code",
      "source": [
        "# Finalize model (for deployment or predictions)\n",
        "final_model = finalize_model(tuned_gbr)"
      ],
      "metadata": {
        "id": "iW2eIbmxPQS-"
      },
      "execution_count": null,
      "outputs": []
    },
    {
      "cell_type": "code",
      "source": [
        "save_model(final_model, 'gradient_boosting_regression_model')"
      ],
      "metadata": {
        "colab": {
          "base_uri": "https://localhost:8080/"
        },
        "id": "XSZH_8mwPTHy",
        "outputId": "7f852a04-0a5f-4a37-aed5-eb532815574d"
      },
      "execution_count": null,
      "outputs": [
        {
          "output_type": "stream",
          "name": "stdout",
          "text": [
            "Transformation Pipeline and Model Successfully Saved\n"
          ]
        },
        {
          "output_type": "execute_result",
          "data": {
            "text/plain": [
              "(Pipeline(memory=Memory(location=None),\n",
              "          steps=[('numerical_imputer',\n",
              "                  TransformerWrapper(include=['Cylinders', 'Displacement',\n",
              "                                              'Horsepower', 'Weight',\n",
              "                                              'Acceleration', 'Model Year'],\n",
              "                                     transformer=SimpleImputer())),\n",
              "                 ('categorical_imputer',\n",
              "                  TransformerWrapper(include=['Origin'],\n",
              "                                     transformer=SimpleImputer(strategy='most_frequent'))),\n",
              "                 ('onehot_encoding',\n",
              "                  TransformerWrap...\n",
              "                                     transformer=OneHotEncoder(cols=['Origin'],\n",
              "                                                               handle_missing='return_nan',\n",
              "                                                               use_cat_names=True))),\n",
              "                 ('clean_column_names',\n",
              "                  TransformerWrapper(transformer=CleanColumnNames())),\n",
              "                 ('actual_estimator',\n",
              "                  GradientBoostingRegressor(learning_rate=0.05, max_depth=6,\n",
              "                                            max_features='sqrt',\n",
              "                                            min_impurity_decrease=0.3,\n",
              "                                            min_samples_leaf=4,\n",
              "                                            min_samples_split=10,\n",
              "                                            n_estimators=270, random_state=42,\n",
              "                                            subsample=0.7))]),\n",
              " 'gradient_boosting_regression_model.pkl')"
            ]
          },
          "metadata": {},
          "execution_count": 15
        }
      ]
    },
    {
      "cell_type": "code",
      "source": [
        "predictions = predict_model(final_model, data)"
      ],
      "metadata": {
        "colab": {
          "base_uri": "https://localhost:8080/",
          "height": 81
        },
        "id": "0khZbohiPY1e",
        "outputId": "0e36f9cc-bd2b-484a-fe49-84cc0fc1c239"
      },
      "execution_count": null,
      "outputs": [
        {
          "output_type": "display_data",
          "data": {
            "text/plain": [
              "<pandas.io.formats.style.Styler at 0x7b4ec2b7cd50>"
            ],
            "text/html": [
              "<style type=\"text/css\">\n",
              "</style>\n",
              "<table id=\"T_67032\" class=\"dataframe\">\n",
              "  <thead>\n",
              "    <tr>\n",
              "      <th class=\"blank level0\" >&nbsp;</th>\n",
              "      <th id=\"T_67032_level0_col0\" class=\"col_heading level0 col0\" >Model</th>\n",
              "      <th id=\"T_67032_level0_col1\" class=\"col_heading level0 col1\" >MAE</th>\n",
              "      <th id=\"T_67032_level0_col2\" class=\"col_heading level0 col2\" >MSE</th>\n",
              "      <th id=\"T_67032_level0_col3\" class=\"col_heading level0 col3\" >RMSE</th>\n",
              "      <th id=\"T_67032_level0_col4\" class=\"col_heading level0 col4\" >R2</th>\n",
              "      <th id=\"T_67032_level0_col5\" class=\"col_heading level0 col5\" >RMSLE</th>\n",
              "      <th id=\"T_67032_level0_col6\" class=\"col_heading level0 col6\" >MAPE</th>\n",
              "    </tr>\n",
              "  </thead>\n",
              "  <tbody>\n",
              "    <tr>\n",
              "      <th id=\"T_67032_level0_row0\" class=\"row_heading level0 row0\" >0</th>\n",
              "      <td id=\"T_67032_row0_col0\" class=\"data row0 col0\" >Gradient Boosting Regressor</td>\n",
              "      <td id=\"T_67032_row0_col1\" class=\"data row0 col1\" >0.5612</td>\n",
              "      <td id=\"T_67032_row0_col2\" class=\"data row0 col2\" >0.5503</td>\n",
              "      <td id=\"T_67032_row0_col3\" class=\"data row0 col3\" >0.7418</td>\n",
              "      <td id=\"T_67032_row0_col4\" class=\"data row0 col4\" >0.9909</td>\n",
              "      <td id=\"T_67032_row0_col5\" class=\"data row0 col5\" >0.0320</td>\n",
              "      <td id=\"T_67032_row0_col6\" class=\"data row0 col6\" >0.0256</td>\n",
              "    </tr>\n",
              "  </tbody>\n",
              "</table>\n"
            ]
          },
          "metadata": {}
        }
      ]
    },
    {
      "cell_type": "code",
      "source": [
        "print(predictions[['MPG', 'prediction_label']].head())"
      ],
      "metadata": {
        "colab": {
          "base_uri": "https://localhost:8080/"
        },
        "id": "qwS1npPHPbGC",
        "outputId": "df2eae22-7c90-45db-f7df-94a590117229"
      },
      "execution_count": null,
      "outputs": [
        {
          "output_type": "stream",
          "name": "stdout",
          "text": [
            "    MPG  prediction_label\n",
            "0  18.0         16.944025\n",
            "1  15.0         14.549552\n",
            "2  18.0         16.783471\n",
            "3  16.0         16.437003\n",
            "4  17.0         17.546274\n"
          ]
        }
      ]
    },
    {
      "cell_type": "markdown",
      "source": [
        " ***H2O.ai***"
      ],
      "metadata": {
        "id": "GxTwBNyEPx34"
      }
    },
    {
      "cell_type": "code",
      "source": [
        "!pip install -f http://h2o-release.s3.amazonaws.com/h2o/latest_stable_Py.html h2o"
      ],
      "metadata": {
        "colab": {
          "base_uri": "https://localhost:8080/"
        },
        "id": "6lKEitTHQMrn",
        "outputId": "72b2c53f-3a46-4a2e-aad9-3636fabfb8be"
      },
      "execution_count": null,
      "outputs": [
        {
          "output_type": "stream",
          "name": "stdout",
          "text": [
            "Looking in links: http://h2o-release.s3.amazonaws.com/h2o/latest_stable_Py.html\n",
            "Requirement already satisfied: h2o in /usr/local/lib/python3.11/dist-packages (3.46.0.7)\n",
            "Requirement already satisfied: requests in /usr/local/lib/python3.11/dist-packages (from h2o) (2.32.3)\n",
            "Requirement already satisfied: tabulate in /usr/local/lib/python3.11/dist-packages (from h2o) (0.9.0)\n",
            "Requirement already satisfied: charset-normalizer<4,>=2 in /usr/local/lib/python3.11/dist-packages (from requests->h2o) (3.4.2)\n",
            "Requirement already satisfied: idna<4,>=2.5 in /usr/local/lib/python3.11/dist-packages (from requests->h2o) (3.10)\n",
            "Requirement already satisfied: urllib3<3,>=1.21.1 in /usr/local/lib/python3.11/dist-packages (from requests->h2o) (2.4.0)\n",
            "Requirement already satisfied: certifi>=2017.4.17 in /usr/local/lib/python3.11/dist-packages (from requests->h2o) (2025.7.9)\n"
          ]
        }
      ]
    },
    {
      "cell_type": "code",
      "source": [
        "import pandas as pd\n",
        "import numpy as np\n",
        "import h2o\n",
        "from h2o.automl import H2OAutoML\n",
        "from sklearn.model_selection import train_test_split"
      ],
      "metadata": {
        "id": "mCEOCRmvQMYI"
      },
      "execution_count": null,
      "outputs": []
    },
    {
      "cell_type": "code",
      "source": [
        "h2o.init()"
      ],
      "metadata": {
        "colab": {
          "base_uri": "https://localhost:8080/",
          "height": 413
        },
        "id": "wltffEL-QRGT",
        "outputId": "49bae188-d4d4-42bb-955e-364f9a3204da"
      },
      "execution_count": null,
      "outputs": [
        {
          "output_type": "stream",
          "name": "stdout",
          "text": [
            "Checking whether there is an H2O instance running at http://localhost:54321. connected.\n",
            "Warning: Your H2O cluster version is (3 months and 17 days) old.  There may be a newer version available.\n",
            "Please download and install the latest version from: https://h2o-release.s3.amazonaws.com/h2o/latest_stable.html\n"
          ]
        },
        {
          "output_type": "display_data",
          "data": {
            "text/plain": [
              "--------------------------  -----------------------------------------------------------------------------------------\n",
              "H2O_cluster_uptime:         3 mins 18 secs\n",
              "H2O_cluster_timezone:       Etc/UTC\n",
              "H2O_data_parsing_timezone:  UTC\n",
              "H2O_cluster_version:        3.46.0.7\n",
              "H2O_cluster_version_age:    3 months and 17 days\n",
              "H2O_cluster_name:           H2O_from_python_unknownUser_vu6d1q\n",
              "H2O_cluster_total_nodes:    1\n",
              "H2O_cluster_free_memory:    3.165 Gb\n",
              "H2O_cluster_total_cores:    2\n",
              "H2O_cluster_allowed_cores:  2\n",
              "H2O_cluster_status:         locked, healthy\n",
              "H2O_connection_url:         http://localhost:54321\n",
              "H2O_connection_proxy:       {\"http\": null, \"https\": null, \"colab_language_server\": \"/usr/colab/bin/language_service\"}\n",
              "H2O_internal_security:      False\n",
              "Python_version:             3.11.13 final\n",
              "--------------------------  -----------------------------------------------------------------------------------------"
            ],
            "text/html": [
              "\n",
              "<style>\n",
              "\n",
              "#h2o-table-2.h2o-container {\n",
              "  overflow-x: auto;\n",
              "}\n",
              "#h2o-table-2 .h2o-table {\n",
              "  /* width: 100%; */\n",
              "  margin-top: 1em;\n",
              "  margin-bottom: 1em;\n",
              "}\n",
              "#h2o-table-2 .h2o-table caption {\n",
              "  white-space: nowrap;\n",
              "  caption-side: top;\n",
              "  text-align: left;\n",
              "  /* margin-left: 1em; */\n",
              "  margin: 0;\n",
              "  font-size: larger;\n",
              "}\n",
              "#h2o-table-2 .h2o-table thead {\n",
              "  white-space: nowrap; \n",
              "  position: sticky;\n",
              "  top: 0;\n",
              "  box-shadow: 0 -1px inset;\n",
              "}\n",
              "#h2o-table-2 .h2o-table tbody {\n",
              "  overflow: auto;\n",
              "}\n",
              "#h2o-table-2 .h2o-table th,\n",
              "#h2o-table-2 .h2o-table td {\n",
              "  text-align: right;\n",
              "  /* border: 1px solid; */\n",
              "}\n",
              "#h2o-table-2 .h2o-table tr:nth-child(even) {\n",
              "  /* background: #F5F5F5 */\n",
              "}\n",
              "\n",
              "</style>      \n",
              "<div id=\"h2o-table-2\" class=\"h2o-container\">\n",
              "  <table class=\"h2o-table\">\n",
              "    <caption></caption>\n",
              "    <thead></thead>\n",
              "    <tbody><tr><td>H2O_cluster_uptime:</td>\n",
              "<td>3 mins 18 secs</td></tr>\n",
              "<tr><td>H2O_cluster_timezone:</td>\n",
              "<td>Etc/UTC</td></tr>\n",
              "<tr><td>H2O_data_parsing_timezone:</td>\n",
              "<td>UTC</td></tr>\n",
              "<tr><td>H2O_cluster_version:</td>\n",
              "<td>3.46.0.7</td></tr>\n",
              "<tr><td>H2O_cluster_version_age:</td>\n",
              "<td>3 months and 17 days</td></tr>\n",
              "<tr><td>H2O_cluster_name:</td>\n",
              "<td>H2O_from_python_unknownUser_vu6d1q</td></tr>\n",
              "<tr><td>H2O_cluster_total_nodes:</td>\n",
              "<td>1</td></tr>\n",
              "<tr><td>H2O_cluster_free_memory:</td>\n",
              "<td>3.165 Gb</td></tr>\n",
              "<tr><td>H2O_cluster_total_cores:</td>\n",
              "<td>2</td></tr>\n",
              "<tr><td>H2O_cluster_allowed_cores:</td>\n",
              "<td>2</td></tr>\n",
              "<tr><td>H2O_cluster_status:</td>\n",
              "<td>locked, healthy</td></tr>\n",
              "<tr><td>H2O_connection_url:</td>\n",
              "<td>http://localhost:54321</td></tr>\n",
              "<tr><td>H2O_connection_proxy:</td>\n",
              "<td>{\"http\": null, \"https\": null, \"colab_language_server\": \"/usr/colab/bin/language_service\"}</td></tr>\n",
              "<tr><td>H2O_internal_security:</td>\n",
              "<td>False</td></tr>\n",
              "<tr><td>Python_version:</td>\n",
              "<td>3.11.13 final</td></tr></tbody>\n",
              "  </table>\n",
              "</div>\n"
            ]
          },
          "metadata": {}
        }
      ]
    },
    {
      "cell_type": "code",
      "source": [
        "url = 'http://archive.ics.uci.edu/ml/machine-learning-databases/auto-mpg/auto-mpg.data'\n",
        "column_names = ['MPG', 'Cylinders', 'Displacement', 'Horsepower', 'Weight',\n",
        "                'Acceleration', 'Model Year', 'Origin']\n",
        "\n",
        "raw_dataset = pd.read_csv(url, names=column_names,\n",
        "                          na_values='?', comment='\\t',\n",
        "                          sep=' ', skipinitialspace=True)"
      ],
      "metadata": {
        "id": "Kwxz1TkTQRCt"
      },
      "execution_count": null,
      "outputs": []
    },
    {
      "cell_type": "code",
      "source": [
        "dataset = raw_dataset.dropna()\n",
        "dataset['Origin'] = dataset['Origin'].map({1: 'USA', 2: 'Europe', 3: 'Japan'})\n",
        "dataset = pd.get_dummies(dataset, columns=['Origin'], prefix='', prefix_sep='')\n",
        "dataset.reset_index(drop=True, inplace=True)"
      ],
      "metadata": {
        "id": "OQOm5IngQVKu"
      },
      "execution_count": null,
      "outputs": []
    },
    {
      "cell_type": "code",
      "source": [
        "train_df, test_df = train_test_split(dataset, test_size=0.2, random_state=42)"
      ],
      "metadata": {
        "id": "DsEUAU6mQVHK"
      },
      "execution_count": null,
      "outputs": []
    },
    {
      "cell_type": "code",
      "source": [
        "train_h2o = h2o.H2OFrame(train_df)\n",
        "test_h2o = h2o.H2OFrame(test_df)"
      ],
      "metadata": {
        "colab": {
          "base_uri": "https://localhost:8080/"
        },
        "id": "4NzC4BaZQaa3",
        "outputId": "fb58bd68-8250-46e2-d0a8-2221605a4051"
      },
      "execution_count": null,
      "outputs": [
        {
          "output_type": "stream",
          "name": "stdout",
          "text": [
            "Parse progress: |████████████████████████████████████████████████████████████████| (done) 100%\n",
            "Parse progress: |████████████████████████████████████████████████████████████████| (done) 100%\n"
          ]
        }
      ]
    },
    {
      "cell_type": "code",
      "source": [
        "target = 'MPG'\n",
        "features = [col for col in train_h2o.columns if col != target]"
      ],
      "metadata": {
        "id": "IBJXuEAKQcTs"
      },
      "execution_count": null,
      "outputs": []
    },
    {
      "cell_type": "code",
      "source": [
        "aml = H2OAutoML(max_models=10, seed=1)\n",
        "aml.train(x=features, y=target, training_frame=train_h2o)"
      ],
      "metadata": {
        "colab": {
          "base_uri": "https://localhost:8080/",
          "height": 1000
        },
        "id": "vI2FECe6QeGV",
        "outputId": "8a5ecf2b-9bdc-41c7-ff58-ab38065db7ed"
      },
      "execution_count": null,
      "outputs": [
        {
          "output_type": "stream",
          "name": "stdout",
          "text": [
            "AutoML progress: |███████████████████████████████████████████████████████████████| (done) 100%\n"
          ]
        },
        {
          "output_type": "execute_result",
          "data": {
            "text/plain": [
              "Model Details\n",
              "=============\n",
              "H2OStackedEnsembleEstimator : Stacked Ensemble\n",
              "Model Key: StackedEnsemble_AllModels_1_AutoML_2_20250714_184708\n",
              "\n",
              "\n",
              "Model Summary for Stacked Ensemble: \n",
              "key                                   value\n",
              "------------------------------------  ----------------\n",
              "Stacking strategy                     cross_validation\n",
              "Number of base models (used / total)  7/10\n",
              "# GBM base models (used / total)      2/4\n",
              "# XGBoost base models (used / total)  3/3\n",
              "# DRF base models (used / total)      1/2\n",
              "# GLM base models (used / total)      1/1\n",
              "Metalearner algorithm                 GLM\n",
              "Metalearner fold assignment scheme    Random\n",
              "Metalearner nfolds                    5\n",
              "Metalearner fold_column\n",
              "Custom metalearner hyperparameters    None\n",
              "\n",
              "ModelMetricsRegressionGLM: stackedensemble\n",
              "** Reported on train data. **\n",
              "\n",
              "MSE: 2.742874450372518\n",
              "RMSE: 1.656162567616029\n",
              "MAE: 1.2010073388860214\n",
              "RMSLE: 0.06528492303597193\n",
              "Mean Residual Deviance: 2.742874450372518\n",
              "R^2: 0.9565311312956044\n",
              "Null degrees of freedom: 312\n",
              "Residual degrees of freedom: 305\n",
              "Null deviance: 19750.219606699648\n",
              "Residual deviance: 858.5197029665982\n",
              "AIC: 1222.0745375030456\n",
              "\n",
              "ModelMetricsRegressionGLM: stackedensemble\n",
              "** Reported on cross-validation data. **\n",
              "\n",
              "MSE: 8.613371765663763\n",
              "RMSE: 2.934854641317652\n",
              "MAE: 2.0895181137901844\n",
              "RMSLE: 0.11068416181394694\n",
              "Mean Residual Deviance: 8.613371765663763\n",
              "R^2: 0.8634959298509155\n",
              "Null degrees of freedom: 312\n",
              "Residual degrees of freedom: 305\n",
              "Null deviance: 19878.3023397355\n",
              "Residual deviance: 2695.985362652758\n",
              "AIC: 1580.243383522911\n",
              "\n",
              "Cross-Validation Metrics Summary: \n",
              "                        mean      sd         cv_1_valid    cv_2_valid    cv_3_valid    cv_4_valid    cv_5_valid\n",
              "----------------------  --------  ---------  ------------  ------------  ------------  ------------  ------------\n",
              "aic                     330.863   27.8808    354.201       364.749       305.64        326.44        303.283\n",
              "loglikelihood           0         0          0             0             0             0             0\n",
              "mae                     2.06491   0.247733   2.25827       2.00937       1.85874       2.38208       1.81609\n",
              "mean_residual_deviance  8.54957   2.79723    12.1661       7.73623       5.92497       10.7682       6.15238\n",
              "mse                     8.54957   2.79723    12.1661       7.73623       5.92497       10.7682       6.15238\n",
              "null_deviance           3975.66   741.239    4388.19       5024.81       3598.23       3747.05       3120.02\n",
              "r2                      0.863749  0.0343196  0.821958      0.888475      0.89856       0.832692      0.87706\n",
              "residual_deviance       534.171   172.795    766.461       549.272       361.423       624.558       369.143\n",
              "rmse                    2.89308   0.473866   3.48799       2.78141       2.43413       3.2815        2.4804\n",
              "rmsle                   0.109871  0.0123859  0.121392      0.109736      0.0980731     0.123148      0.0970087\n",
              "\n",
              "[tips]\n",
              "Use `model.explain()` to inspect the model.\n",
              "--\n",
              "Use `h2o.display.toggle_user_tips()` to switch on/off this section."
            ],
            "text/html": [
              "<pre style='margin: 1em 0 1em 0;'>Model Details\n",
              "=============\n",
              "H2OStackedEnsembleEstimator : Stacked Ensemble\n",
              "Model Key: StackedEnsemble_AllModels_1_AutoML_2_20250714_184708\n",
              "</pre>\n",
              "<div style='margin: 1em 0 1em 0;'>\n",
              "<style>\n",
              "\n",
              "#h2o-table-3.h2o-container {\n",
              "  overflow-x: auto;\n",
              "}\n",
              "#h2o-table-3 .h2o-table {\n",
              "  /* width: 100%; */\n",
              "  margin-top: 1em;\n",
              "  margin-bottom: 1em;\n",
              "}\n",
              "#h2o-table-3 .h2o-table caption {\n",
              "  white-space: nowrap;\n",
              "  caption-side: top;\n",
              "  text-align: left;\n",
              "  /* margin-left: 1em; */\n",
              "  margin: 0;\n",
              "  font-size: larger;\n",
              "}\n",
              "#h2o-table-3 .h2o-table thead {\n",
              "  white-space: nowrap; \n",
              "  position: sticky;\n",
              "  top: 0;\n",
              "  box-shadow: 0 -1px inset;\n",
              "}\n",
              "#h2o-table-3 .h2o-table tbody {\n",
              "  overflow: auto;\n",
              "}\n",
              "#h2o-table-3 .h2o-table th,\n",
              "#h2o-table-3 .h2o-table td {\n",
              "  text-align: right;\n",
              "  /* border: 1px solid; */\n",
              "}\n",
              "#h2o-table-3 .h2o-table tr:nth-child(even) {\n",
              "  /* background: #F5F5F5 */\n",
              "}\n",
              "\n",
              "</style>      \n",
              "<div id=\"h2o-table-3\" class=\"h2o-container\">\n",
              "  <table class=\"h2o-table\">\n",
              "    <caption>Model Summary for Stacked Ensemble: </caption>\n",
              "    <thead><tr><th>key</th>\n",
              "<th>value</th></tr></thead>\n",
              "    <tbody><tr><td>Stacking strategy</td>\n",
              "<td>cross_validation</td></tr>\n",
              "<tr><td>Number of base models (used / total)</td>\n",
              "<td>7/10</td></tr>\n",
              "<tr><td># GBM base models (used / total)</td>\n",
              "<td>2/4</td></tr>\n",
              "<tr><td># XGBoost base models (used / total)</td>\n",
              "<td>3/3</td></tr>\n",
              "<tr><td># DRF base models (used / total)</td>\n",
              "<td>1/2</td></tr>\n",
              "<tr><td># GLM base models (used / total)</td>\n",
              "<td>1/1</td></tr>\n",
              "<tr><td>Metalearner algorithm</td>\n",
              "<td>GLM</td></tr>\n",
              "<tr><td>Metalearner fold assignment scheme</td>\n",
              "<td>Random</td></tr>\n",
              "<tr><td>Metalearner nfolds</td>\n",
              "<td>5</td></tr>\n",
              "<tr><td>Metalearner fold_column</td>\n",
              "<td>None</td></tr>\n",
              "<tr><td>Custom metalearner hyperparameters</td>\n",
              "<td>None</td></tr></tbody>\n",
              "  </table>\n",
              "</div>\n",
              "</div>\n",
              "<div style='margin: 1em 0 1em 0;'><pre style='margin: 1em 0 1em 0;'>ModelMetricsRegressionGLM: stackedensemble\n",
              "** Reported on train data. **\n",
              "\n",
              "MSE: 2.742874450372518\n",
              "RMSE: 1.656162567616029\n",
              "MAE: 1.2010073388860214\n",
              "RMSLE: 0.06528492303597193\n",
              "Mean Residual Deviance: 2.742874450372518\n",
              "R^2: 0.9565311312956044\n",
              "Null degrees of freedom: 312\n",
              "Residual degrees of freedom: 305\n",
              "Null deviance: 19750.219606699648\n",
              "Residual deviance: 858.5197029665982\n",
              "AIC: 1222.0745375030456</pre></div>\n",
              "<div style='margin: 1em 0 1em 0;'><pre style='margin: 1em 0 1em 0;'>ModelMetricsRegressionGLM: stackedensemble\n",
              "** Reported on cross-validation data. **\n",
              "\n",
              "MSE: 8.613371765663763\n",
              "RMSE: 2.934854641317652\n",
              "MAE: 2.0895181137901844\n",
              "RMSLE: 0.11068416181394694\n",
              "Mean Residual Deviance: 8.613371765663763\n",
              "R^2: 0.8634959298509155\n",
              "Null degrees of freedom: 312\n",
              "Residual degrees of freedom: 305\n",
              "Null deviance: 19878.3023397355\n",
              "Residual deviance: 2695.985362652758\n",
              "AIC: 1580.243383522911</pre></div>\n",
              "<div style='margin: 1em 0 1em 0;'>\n",
              "<style>\n",
              "\n",
              "#h2o-table-4.h2o-container {\n",
              "  overflow-x: auto;\n",
              "}\n",
              "#h2o-table-4 .h2o-table {\n",
              "  /* width: 100%; */\n",
              "  margin-top: 1em;\n",
              "  margin-bottom: 1em;\n",
              "}\n",
              "#h2o-table-4 .h2o-table caption {\n",
              "  white-space: nowrap;\n",
              "  caption-side: top;\n",
              "  text-align: left;\n",
              "  /* margin-left: 1em; */\n",
              "  margin: 0;\n",
              "  font-size: larger;\n",
              "}\n",
              "#h2o-table-4 .h2o-table thead {\n",
              "  white-space: nowrap; \n",
              "  position: sticky;\n",
              "  top: 0;\n",
              "  box-shadow: 0 -1px inset;\n",
              "}\n",
              "#h2o-table-4 .h2o-table tbody {\n",
              "  overflow: auto;\n",
              "}\n",
              "#h2o-table-4 .h2o-table th,\n",
              "#h2o-table-4 .h2o-table td {\n",
              "  text-align: right;\n",
              "  /* border: 1px solid; */\n",
              "}\n",
              "#h2o-table-4 .h2o-table tr:nth-child(even) {\n",
              "  /* background: #F5F5F5 */\n",
              "}\n",
              "\n",
              "</style>      \n",
              "<div id=\"h2o-table-4\" class=\"h2o-container\">\n",
              "  <table class=\"h2o-table\">\n",
              "    <caption>Cross-Validation Metrics Summary: </caption>\n",
              "    <thead><tr><th></th>\n",
              "<th>mean</th>\n",
              "<th>sd</th>\n",
              "<th>cv_1_valid</th>\n",
              "<th>cv_2_valid</th>\n",
              "<th>cv_3_valid</th>\n",
              "<th>cv_4_valid</th>\n",
              "<th>cv_5_valid</th></tr></thead>\n",
              "    <tbody><tr><td>aic</td>\n",
              "<td>330.86267</td>\n",
              "<td>27.880795</td>\n",
              "<td>354.20117</td>\n",
              "<td>364.7492</td>\n",
              "<td>305.64026</td>\n",
              "<td>326.4397</td>\n",
              "<td>303.283</td></tr>\n",
              "<tr><td>loglikelihood</td>\n",
              "<td>0.0</td>\n",
              "<td>0.0</td>\n",
              "<td>0.0</td>\n",
              "<td>0.0</td>\n",
              "<td>0.0</td>\n",
              "<td>0.0</td>\n",
              "<td>0.0</td></tr>\n",
              "<tr><td>mae</td>\n",
              "<td>2.0649135</td>\n",
              "<td>0.2477335</td>\n",
              "<td>2.2582743</td>\n",
              "<td>2.00937</td>\n",
              "<td>1.8587443</td>\n",
              "<td>2.3820844</td>\n",
              "<td>1.8160944</td></tr>\n",
              "<tr><td>mean_residual_deviance</td>\n",
              "<td>8.549574</td>\n",
              "<td>2.7972283</td>\n",
              "<td>12.166051</td>\n",
              "<td>7.73623</td>\n",
              "<td>5.924974</td>\n",
              "<td>10.768233</td>\n",
              "<td>6.1523814</td></tr>\n",
              "<tr><td>mse</td>\n",
              "<td>8.549574</td>\n",
              "<td>2.7972283</td>\n",
              "<td>12.166051</td>\n",
              "<td>7.73623</td>\n",
              "<td>5.924974</td>\n",
              "<td>10.768233</td>\n",
              "<td>6.1523814</td></tr>\n",
              "<tr><td>null_deviance</td>\n",
              "<td>3975.6604</td>\n",
              "<td>741.2389</td>\n",
              "<td>4388.19</td>\n",
              "<td>5024.8135</td>\n",
              "<td>3598.2312</td>\n",
              "<td>3747.0474</td>\n",
              "<td>3120.0203</td></tr>\n",
              "<tr><td>r2</td>\n",
              "<td>0.8637491</td>\n",
              "<td>0.0343196</td>\n",
              "<td>0.8219582</td>\n",
              "<td>0.8884749</td>\n",
              "<td>0.8985601</td>\n",
              "<td>0.8326924</td>\n",
              "<td>0.87706</td></tr>\n",
              "<tr><td>residual_deviance</td>\n",
              "<td>534.17145</td>\n",
              "<td>172.79506</td>\n",
              "<td>766.46124</td>\n",
              "<td>549.27234</td>\n",
              "<td>361.4234</td>\n",
              "<td>624.5575</td>\n",
              "<td>369.14288</td></tr>\n",
              "<tr><td>rmse</td>\n",
              "<td>2.8930838</td>\n",
              "<td>0.4738662</td>\n",
              "<td>3.4879868</td>\n",
              "<td>2.7814078</td>\n",
              "<td>2.4341269</td>\n",
              "<td>3.2814987</td>\n",
              "<td>2.4803994</td></tr>\n",
              "<tr><td>rmsle</td>\n",
              "<td>0.1098714</td>\n",
              "<td>0.0123859</td>\n",
              "<td>0.1213916</td>\n",
              "<td>0.1097363</td>\n",
              "<td>0.0980731</td>\n",
              "<td>0.1231476</td>\n",
              "<td>0.0970087</td></tr></tbody>\n",
              "  </table>\n",
              "</div>\n",
              "</div><pre style=\"font-size: smaller; margin: 1em 0 0 0;\">\n",
              "\n",
              "[tips]\n",
              "Use `model.explain()` to inspect the model.\n",
              "--\n",
              "Use `h2o.display.toggle_user_tips()` to switch on/off this section.</pre>"
            ]
          },
          "metadata": {},
          "execution_count": 28
        }
      ]
    },
    {
      "cell_type": "code",
      "source": [
        "lb = aml.leaderboard\n",
        "print(lb.head(rows=5))"
      ],
      "metadata": {
        "colab": {
          "base_uri": "https://localhost:8080/"
        },
        "id": "mRTSMfH0Qf2A",
        "outputId": "f8847be0-54f7-403e-be78-3342eed12804"
      },
      "execution_count": null,
      "outputs": [
        {
          "output_type": "stream",
          "name": "stdout",
          "text": [
            "model_id                                                    rmse      mse      mae     rmsle    mean_residual_deviance\n",
            "StackedEnsemble_AllModels_1_AutoML_2_20250714_184708     2.93485  8.61337  2.08952  0.110684                   8.61337\n",
            "StackedEnsemble_BestOfFamily_1_AutoML_2_20250714_184708  2.93589  8.61946  2.091    0.111209                   8.61946\n",
            "GBM_2_AutoML_2_20250714_184708                           3.00576  9.03462  2.08573  0.114174                   9.03462\n",
            "GBM_4_AutoML_2_20250714_184708                           3.02641  9.15918  2.13292  0.114802                   9.15918\n",
            "GBM_3_AutoML_2_20250714_184708                           3.04306  9.26023  2.09855  0.114998                   9.26023\n",
            "[5 rows x 6 columns]\n",
            "\n"
          ]
        }
      ]
    },
    {
      "cell_type": "code",
      "source": [
        "best_model = aml.leader\n",
        "print(\"\\nBest model is:\", best_model.model_id)"
      ],
      "metadata": {
        "colab": {
          "base_uri": "https://localhost:8080/"
        },
        "id": "4GaEJijKQiHB",
        "outputId": "4526ce2e-0b64-4281-a314-c5f7658a14e0"
      },
      "execution_count": null,
      "outputs": [
        {
          "output_type": "stream",
          "name": "stdout",
          "text": [
            "\n",
            "Best model is: StackedEnsemble_AllModels_1_AutoML_2_20250714_184708\n"
          ]
        }
      ]
    },
    {
      "cell_type": "code",
      "source": [
        "preds = best_model.predict(test_h2o)\n",
        "preds = preds.as_data_frame()\n",
        "actual = test_df[target].reset_index(drop=True)"
      ],
      "metadata": {
        "colab": {
          "base_uri": "https://localhost:8080/"
        },
        "id": "4F4we6MPQh_M",
        "outputId": "ee9d240c-6053-448f-94a2-b03f0b209165"
      },
      "execution_count": null,
      "outputs": [
        {
          "output_type": "stream",
          "name": "stdout",
          "text": [
            "stackedensemble prediction progress: |███████████████████████████████████████████| (done) 100%\n"
          ]
        }
      ]
    },
    {
      "cell_type": "code",
      "source": [
        "from sklearn.metrics import mean_squared_error, mean_absolute_error, r2_score\n",
        "\n",
        "mse = mean_squared_error(actual, preds['predict'])\n",
        "rmse = np.sqrt(mse)\n",
        "mae = mean_absolute_error(actual, preds['predict'])\n",
        "r2 = r2_score(actual, preds['predict'])"
      ],
      "metadata": {
        "id": "CdKrPL9hQlu5"
      },
      "execution_count": null,
      "outputs": []
    },
    {
      "cell_type": "code",
      "source": [
        "print(\"\\n H2O AutoML Model Performance:\")\n",
        "print(\"Mean Squared Error (MSE):\", mse)\n",
        "print(\"Root Mean Squared Error (RMSE):\", rmse)\n",
        "print(\"Mean Absolute Error (MAE):\", mae)\n",
        "print(\"R² Score:\", r2)"
      ],
      "metadata": {
        "colab": {
          "base_uri": "https://localhost:8080/"
        },
        "id": "g9xKchJCQpGy",
        "outputId": "6a831846-f841-4a70-e6bb-4a882652a9d3"
      },
      "execution_count": null,
      "outputs": [
        {
          "output_type": "stream",
          "name": "stdout",
          "text": [
            "\n",
            " H2O AutoML Model Performance:\n",
            "Mean Squared Error (MSE): 5.962421503631949\n",
            "Root Mean Squared Error (RMSE): 2.441807016050193\n",
            "Mean Absolute Error (MAE): 1.7196795057940468\n",
            "R² Score: 0.8831827317565804\n"
          ]
        }
      ]
    },
    {
      "cell_type": "markdown",
      "source": [
        "***TPOT***"
      ],
      "metadata": {
        "id": "ERX4IihFRPsJ"
      }
    },
    {
      "cell_type": "code",
      "source": [
        "!pip install -q tpot \"scikit-learn==1.3.0\""
      ],
      "metadata": {
        "id": "LEqYGi4qR3t2"
      },
      "execution_count": null,
      "outputs": []
    },
    {
      "cell_type": "code",
      "source": [
        "import pandas as pd\n",
        "import numpy as np\n",
        "from sklearn.model_selection import train_test_split\n",
        "from sklearn.metrics import mean_squared_error, mean_absolute_error, r2_score\n",
        "from tpot import TPOTRegressor\n",
        "import matplotlib.pyplot as plt"
      ],
      "metadata": {
        "id": "EUTpIXOKR5tY"
      },
      "execution_count": null,
      "outputs": []
    },
    {
      "cell_type": "code",
      "source": [
        "np.set_printoptions(precision=3, suppress=True)"
      ],
      "metadata": {
        "id": "AtOVFK6RR8kW"
      },
      "execution_count": null,
      "outputs": []
    },
    {
      "cell_type": "code",
      "source": [
        "# Load dataset\n",
        "url = 'http://archive.ics.uci.edu/ml/machine-learning-databases/auto-mpg/auto-mpg.data'\n",
        "column_names = ['MPG', 'Cylinders', 'Displacement', 'Horsepower', 'Weight',\n",
        "                'Acceleration', 'Model Year', 'Origin']\n",
        "\n",
        "raw_dataset = pd.read_csv(url, names=column_names,\n",
        "                          na_values='?', comment='\\t',\n",
        "                          sep=' ', skipinitialspace=True)"
      ],
      "metadata": {
        "id": "LH2qp_6uSACJ"
      },
      "execution_count": null,
      "outputs": []
    },
    {
      "cell_type": "code",
      "source": [
        "dataset = raw_dataset.copy()\n",
        "dataset = dataset.dropna()\n",
        "dataset['Origin'] = dataset['Origin'].map({1: 'USA', 2: 'Europe', 3: 'Japan'})\n",
        "dataset = pd.get_dummies(dataset, columns=['Origin'], prefix='', prefix_sep='')\n",
        "dataset.reset_index(drop=True, inplace=True)"
      ],
      "metadata": {
        "id": "sCDcJSUOR_-v"
      },
      "execution_count": null,
      "outputs": []
    },
    {
      "cell_type": "code",
      "source": [
        "X = dataset.drop('MPG', axis=1)\n",
        "y = dataset['MPG']"
      ],
      "metadata": {
        "id": "mGhrte-cR_4e"
      },
      "execution_count": null,
      "outputs": []
    },
    {
      "cell_type": "code",
      "source": [
        "X_train, X_test, y_train, y_test = train_test_split(X, y, test_size=0.2, random_state=42)"
      ],
      "metadata": {
        "id": "ZMkXDxEPSFZM"
      },
      "execution_count": null,
      "outputs": []
    },
    {
      "cell_type": "code",
      "source": [
        "tpot = TPOTRegressor(generations=5, population_size=50, verbosity=2, random_state=42, n_jobs=-1)\n",
        "tpot.fit(X_train, y_train)"
      ],
      "metadata": {
        "colab": {
          "base_uri": "https://localhost:8080/",
          "height": 343,
          "referenced_widgets": [
            "35bb685d492d4d1f8de991f5914c540f",
            "15d2b94ad785498992f4406660895f25",
            "31bd2824c739480cbd281945e4576c5a",
            "71935f6bd32640e3a52e6ae5b5ebd856",
            "7c0c1efe06dc4569912137a83741c4cc",
            "ed6caf5ba73c4b8d9502fef83c128a22",
            "3453fbb14fa64d2c98ea2a7e6ec79279",
            "ec6d06b88739432a8650ddac27dc471d",
            "31bdeada92424917be8e3e569472bd65",
            "de1ceade35da4965b81b5f517583b51e",
            "5dcab13ba4e74048987ec12e9cb072d2"
          ]
        },
        "id": "cKvIrJ2FSIvM",
        "outputId": "a1c451d4-1755-4d67-f1a1-24676fea7551"
      },
      "execution_count": null,
      "outputs": [
        {
          "output_type": "stream",
          "name": "stderr",
          "text": [
            "Version 0.12.1 of tpot is outdated. Version 1.1.0 was released Thursday July 03, 2025.\n"
          ]
        },
        {
          "output_type": "display_data",
          "data": {
            "text/plain": [
              "Optimization Progress:   0%|          | 0/300 [00:00<?, ?pipeline/s]"
            ],
            "application/vnd.jupyter.widget-view+json": {
              "version_major": 2,
              "version_minor": 0,
              "model_id": "35bb685d492d4d1f8de991f5914c540f"
            }
          },
          "metadata": {
            "application/vnd.jupyter.widget-view+json": {
              "colab": {
                "custom_widget_manager": {
                  "url": "https://ssl.gstatic.com/colaboratory-static/widgets/colab-cdn-widget-manager/2b70e893a8ba7c0f/manager.min.js"
                }
              }
            }
          }
        },
        {
          "output_type": "stream",
          "name": "stdout",
          "text": [
            "\n",
            "Generation 1 - Current best internal CV score: -9.213539818688412\n",
            "\n",
            "Generation 2 - Current best internal CV score: -8.977606601592992\n",
            "\n",
            "Generation 3 - Current best internal CV score: -8.963008497262933\n",
            "\n",
            "Generation 4 - Current best internal CV score: -8.902847533185739\n",
            "\n",
            "Generation 5 - Current best internal CV score: -8.902847533185739\n",
            "\n",
            "Best pipeline: RandomForestRegressor(PolynomialFeatures(MinMaxScaler(input_matrix), degree=2, include_bias=False, interaction_only=False), bootstrap=True, max_features=1.0, min_samples_leaf=5, min_samples_split=14, n_estimators=100)\n"
          ]
        },
        {
          "output_type": "execute_result",
          "data": {
            "text/plain": [
              "TPOTRegressor(generations=5, n_jobs=-1, population_size=50, random_state=42,\n",
              "              verbosity=2)"
            ],
            "text/html": [
              "<style>#sk-container-id-1 {\n",
              "  /* Definition of color scheme common for light and dark mode */\n",
              "  --sklearn-color-text: black;\n",
              "  --sklearn-color-line: gray;\n",
              "  /* Definition of color scheme for unfitted estimators */\n",
              "  --sklearn-color-unfitted-level-0: #fff5e6;\n",
              "  --sklearn-color-unfitted-level-1: #f6e4d2;\n",
              "  --sklearn-color-unfitted-level-2: #ffe0b3;\n",
              "  --sklearn-color-unfitted-level-3: chocolate;\n",
              "  /* Definition of color scheme for fitted estimators */\n",
              "  --sklearn-color-fitted-level-0: #f0f8ff;\n",
              "  --sklearn-color-fitted-level-1: #d4ebff;\n",
              "  --sklearn-color-fitted-level-2: #b3dbfd;\n",
              "  --sklearn-color-fitted-level-3: cornflowerblue;\n",
              "\n",
              "  /* Specific color for light theme */\n",
              "  --sklearn-color-text-on-default-background: var(--sg-text-color, var(--theme-code-foreground, var(--jp-content-font-color1, black)));\n",
              "  --sklearn-color-background: var(--sg-background-color, var(--theme-background, var(--jp-layout-color0, white)));\n",
              "  --sklearn-color-border-box: var(--sg-text-color, var(--theme-code-foreground, var(--jp-content-font-color1, black)));\n",
              "  --sklearn-color-icon: #696969;\n",
              "\n",
              "  @media (prefers-color-scheme: dark) {\n",
              "    /* Redefinition of color scheme for dark theme */\n",
              "    --sklearn-color-text-on-default-background: var(--sg-text-color, var(--theme-code-foreground, var(--jp-content-font-color1, white)));\n",
              "    --sklearn-color-background: var(--sg-background-color, var(--theme-background, var(--jp-layout-color0, #111)));\n",
              "    --sklearn-color-border-box: var(--sg-text-color, var(--theme-code-foreground, var(--jp-content-font-color1, white)));\n",
              "    --sklearn-color-icon: #878787;\n",
              "  }\n",
              "}\n",
              "\n",
              "#sk-container-id-1 {\n",
              "  color: var(--sklearn-color-text);\n",
              "}\n",
              "\n",
              "#sk-container-id-1 pre {\n",
              "  padding: 0;\n",
              "}\n",
              "\n",
              "#sk-container-id-1 input.sk-hidden--visually {\n",
              "  border: 0;\n",
              "  clip: rect(1px 1px 1px 1px);\n",
              "  clip: rect(1px, 1px, 1px, 1px);\n",
              "  height: 1px;\n",
              "  margin: -1px;\n",
              "  overflow: hidden;\n",
              "  padding: 0;\n",
              "  position: absolute;\n",
              "  width: 1px;\n",
              "}\n",
              "\n",
              "#sk-container-id-1 div.sk-dashed-wrapped {\n",
              "  border: 1px dashed var(--sklearn-color-line);\n",
              "  margin: 0 0.4em 0.5em 0.4em;\n",
              "  box-sizing: border-box;\n",
              "  padding-bottom: 0.4em;\n",
              "  background-color: var(--sklearn-color-background);\n",
              "}\n",
              "\n",
              "#sk-container-id-1 div.sk-container {\n",
              "  /* jupyter's `normalize.less` sets `[hidden] { display: none; }`\n",
              "     but bootstrap.min.css set `[hidden] { display: none !important; }`\n",
              "     so we also need the `!important` here to be able to override the\n",
              "     default hidden behavior on the sphinx rendered scikit-learn.org.\n",
              "     See: https://github.com/scikit-learn/scikit-learn/issues/21755 */\n",
              "  display: inline-block !important;\n",
              "  position: relative;\n",
              "}\n",
              "\n",
              "#sk-container-id-1 div.sk-text-repr-fallback {\n",
              "  display: none;\n",
              "}\n",
              "\n",
              "div.sk-parallel-item,\n",
              "div.sk-serial,\n",
              "div.sk-item {\n",
              "  /* draw centered vertical line to link estimators */\n",
              "  background-image: linear-gradient(var(--sklearn-color-text-on-default-background), var(--sklearn-color-text-on-default-background));\n",
              "  background-size: 2px 100%;\n",
              "  background-repeat: no-repeat;\n",
              "  background-position: center center;\n",
              "}\n",
              "\n",
              "/* Parallel-specific style estimator block */\n",
              "\n",
              "#sk-container-id-1 div.sk-parallel-item::after {\n",
              "  content: \"\";\n",
              "  width: 100%;\n",
              "  border-bottom: 2px solid var(--sklearn-color-text-on-default-background);\n",
              "  flex-grow: 1;\n",
              "}\n",
              "\n",
              "#sk-container-id-1 div.sk-parallel {\n",
              "  display: flex;\n",
              "  align-items: stretch;\n",
              "  justify-content: center;\n",
              "  background-color: var(--sklearn-color-background);\n",
              "  position: relative;\n",
              "}\n",
              "\n",
              "#sk-container-id-1 div.sk-parallel-item {\n",
              "  display: flex;\n",
              "  flex-direction: column;\n",
              "}\n",
              "\n",
              "#sk-container-id-1 div.sk-parallel-item:first-child::after {\n",
              "  align-self: flex-end;\n",
              "  width: 50%;\n",
              "}\n",
              "\n",
              "#sk-container-id-1 div.sk-parallel-item:last-child::after {\n",
              "  align-self: flex-start;\n",
              "  width: 50%;\n",
              "}\n",
              "\n",
              "#sk-container-id-1 div.sk-parallel-item:only-child::after {\n",
              "  width: 0;\n",
              "}\n",
              "\n",
              "/* Serial-specific style estimator block */\n",
              "\n",
              "#sk-container-id-1 div.sk-serial {\n",
              "  display: flex;\n",
              "  flex-direction: column;\n",
              "  align-items: center;\n",
              "  background-color: var(--sklearn-color-background);\n",
              "  padding-right: 1em;\n",
              "  padding-left: 1em;\n",
              "}\n",
              "\n",
              "\n",
              "/* Toggleable style: style used for estimator/Pipeline/ColumnTransformer box that is\n",
              "clickable and can be expanded/collapsed.\n",
              "- Pipeline and ColumnTransformer use this feature and define the default style\n",
              "- Estimators will overwrite some part of the style using the `sk-estimator` class\n",
              "*/\n",
              "\n",
              "/* Pipeline and ColumnTransformer style (default) */\n",
              "\n",
              "#sk-container-id-1 div.sk-toggleable {\n",
              "  /* Default theme specific background. It is overwritten whether we have a\n",
              "  specific estimator or a Pipeline/ColumnTransformer */\n",
              "  background-color: var(--sklearn-color-background);\n",
              "}\n",
              "\n",
              "/* Toggleable label */\n",
              "#sk-container-id-1 label.sk-toggleable__label {\n",
              "  cursor: pointer;\n",
              "  display: block;\n",
              "  width: 100%;\n",
              "  margin-bottom: 0;\n",
              "  padding: 0.5em;\n",
              "  box-sizing: border-box;\n",
              "  text-align: center;\n",
              "}\n",
              "\n",
              "#sk-container-id-1 label.sk-toggleable__label-arrow:before {\n",
              "  /* Arrow on the left of the label */\n",
              "  content: \"▸\";\n",
              "  float: left;\n",
              "  margin-right: 0.25em;\n",
              "  color: var(--sklearn-color-icon);\n",
              "}\n",
              "\n",
              "#sk-container-id-1 label.sk-toggleable__label-arrow:hover:before {\n",
              "  color: var(--sklearn-color-text);\n",
              "}\n",
              "\n",
              "/* Toggleable content - dropdown */\n",
              "\n",
              "#sk-container-id-1 div.sk-toggleable__content {\n",
              "  max-height: 0;\n",
              "  max-width: 0;\n",
              "  overflow: hidden;\n",
              "  text-align: left;\n",
              "  /* unfitted */\n",
              "  background-color: var(--sklearn-color-unfitted-level-0);\n",
              "}\n",
              "\n",
              "#sk-container-id-1 div.sk-toggleable__content.fitted {\n",
              "  /* fitted */\n",
              "  background-color: var(--sklearn-color-fitted-level-0);\n",
              "}\n",
              "\n",
              "#sk-container-id-1 div.sk-toggleable__content pre {\n",
              "  margin: 0.2em;\n",
              "  border-radius: 0.25em;\n",
              "  color: var(--sklearn-color-text);\n",
              "  /* unfitted */\n",
              "  background-color: var(--sklearn-color-unfitted-level-0);\n",
              "}\n",
              "\n",
              "#sk-container-id-1 div.sk-toggleable__content.fitted pre {\n",
              "  /* unfitted */\n",
              "  background-color: var(--sklearn-color-fitted-level-0);\n",
              "}\n",
              "\n",
              "#sk-container-id-1 input.sk-toggleable__control:checked~div.sk-toggleable__content {\n",
              "  /* Expand drop-down */\n",
              "  max-height: 200px;\n",
              "  max-width: 100%;\n",
              "  overflow: auto;\n",
              "}\n",
              "\n",
              "#sk-container-id-1 input.sk-toggleable__control:checked~label.sk-toggleable__label-arrow:before {\n",
              "  content: \"▾\";\n",
              "}\n",
              "\n",
              "/* Pipeline/ColumnTransformer-specific style */\n",
              "\n",
              "#sk-container-id-1 div.sk-label input.sk-toggleable__control:checked~label.sk-toggleable__label {\n",
              "  color: var(--sklearn-color-text);\n",
              "  background-color: var(--sklearn-color-unfitted-level-2);\n",
              "}\n",
              "\n",
              "#sk-container-id-1 div.sk-label.fitted input.sk-toggleable__control:checked~label.sk-toggleable__label {\n",
              "  background-color: var(--sklearn-color-fitted-level-2);\n",
              "}\n",
              "\n",
              "/* Estimator-specific style */\n",
              "\n",
              "/* Colorize estimator box */\n",
              "#sk-container-id-1 div.sk-estimator input.sk-toggleable__control:checked~label.sk-toggleable__label {\n",
              "  /* unfitted */\n",
              "  background-color: var(--sklearn-color-unfitted-level-2);\n",
              "}\n",
              "\n",
              "#sk-container-id-1 div.sk-estimator.fitted input.sk-toggleable__control:checked~label.sk-toggleable__label {\n",
              "  /* fitted */\n",
              "  background-color: var(--sklearn-color-fitted-level-2);\n",
              "}\n",
              "\n",
              "#sk-container-id-1 div.sk-label label.sk-toggleable__label,\n",
              "#sk-container-id-1 div.sk-label label {\n",
              "  /* The background is the default theme color */\n",
              "  color: var(--sklearn-color-text-on-default-background);\n",
              "}\n",
              "\n",
              "/* On hover, darken the color of the background */\n",
              "#sk-container-id-1 div.sk-label:hover label.sk-toggleable__label {\n",
              "  color: var(--sklearn-color-text);\n",
              "  background-color: var(--sklearn-color-unfitted-level-2);\n",
              "}\n",
              "\n",
              "/* Label box, darken color on hover, fitted */\n",
              "#sk-container-id-1 div.sk-label.fitted:hover label.sk-toggleable__label.fitted {\n",
              "  color: var(--sklearn-color-text);\n",
              "  background-color: var(--sklearn-color-fitted-level-2);\n",
              "}\n",
              "\n",
              "/* Estimator label */\n",
              "\n",
              "#sk-container-id-1 div.sk-label label {\n",
              "  font-family: monospace;\n",
              "  font-weight: bold;\n",
              "  display: inline-block;\n",
              "  line-height: 1.2em;\n",
              "}\n",
              "\n",
              "#sk-container-id-1 div.sk-label-container {\n",
              "  text-align: center;\n",
              "}\n",
              "\n",
              "/* Estimator-specific */\n",
              "#sk-container-id-1 div.sk-estimator {\n",
              "  font-family: monospace;\n",
              "  border: 1px dotted var(--sklearn-color-border-box);\n",
              "  border-radius: 0.25em;\n",
              "  box-sizing: border-box;\n",
              "  margin-bottom: 0.5em;\n",
              "  /* unfitted */\n",
              "  background-color: var(--sklearn-color-unfitted-level-0);\n",
              "}\n",
              "\n",
              "#sk-container-id-1 div.sk-estimator.fitted {\n",
              "  /* fitted */\n",
              "  background-color: var(--sklearn-color-fitted-level-0);\n",
              "}\n",
              "\n",
              "/* on hover */\n",
              "#sk-container-id-1 div.sk-estimator:hover {\n",
              "  /* unfitted */\n",
              "  background-color: var(--sklearn-color-unfitted-level-2);\n",
              "}\n",
              "\n",
              "#sk-container-id-1 div.sk-estimator.fitted:hover {\n",
              "  /* fitted */\n",
              "  background-color: var(--sklearn-color-fitted-level-2);\n",
              "}\n",
              "\n",
              "/* Specification for estimator info (e.g. \"i\" and \"?\") */\n",
              "\n",
              "/* Common style for \"i\" and \"?\" */\n",
              "\n",
              ".sk-estimator-doc-link,\n",
              "a:link.sk-estimator-doc-link,\n",
              "a:visited.sk-estimator-doc-link {\n",
              "  float: right;\n",
              "  font-size: smaller;\n",
              "  line-height: 1em;\n",
              "  font-family: monospace;\n",
              "  background-color: var(--sklearn-color-background);\n",
              "  border-radius: 1em;\n",
              "  height: 1em;\n",
              "  width: 1em;\n",
              "  text-decoration: none !important;\n",
              "  margin-left: 1ex;\n",
              "  /* unfitted */\n",
              "  border: var(--sklearn-color-unfitted-level-1) 1pt solid;\n",
              "  color: var(--sklearn-color-unfitted-level-1);\n",
              "}\n",
              "\n",
              ".sk-estimator-doc-link.fitted,\n",
              "a:link.sk-estimator-doc-link.fitted,\n",
              "a:visited.sk-estimator-doc-link.fitted {\n",
              "  /* fitted */\n",
              "  border: var(--sklearn-color-fitted-level-1) 1pt solid;\n",
              "  color: var(--sklearn-color-fitted-level-1);\n",
              "}\n",
              "\n",
              "/* On hover */\n",
              "div.sk-estimator:hover .sk-estimator-doc-link:hover,\n",
              ".sk-estimator-doc-link:hover,\n",
              "div.sk-label-container:hover .sk-estimator-doc-link:hover,\n",
              ".sk-estimator-doc-link:hover {\n",
              "  /* unfitted */\n",
              "  background-color: var(--sklearn-color-unfitted-level-3);\n",
              "  color: var(--sklearn-color-background);\n",
              "  text-decoration: none;\n",
              "}\n",
              "\n",
              "div.sk-estimator.fitted:hover .sk-estimator-doc-link.fitted:hover,\n",
              ".sk-estimator-doc-link.fitted:hover,\n",
              "div.sk-label-container:hover .sk-estimator-doc-link.fitted:hover,\n",
              ".sk-estimator-doc-link.fitted:hover {\n",
              "  /* fitted */\n",
              "  background-color: var(--sklearn-color-fitted-level-3);\n",
              "  color: var(--sklearn-color-background);\n",
              "  text-decoration: none;\n",
              "}\n",
              "\n",
              "/* Span, style for the box shown on hovering the info icon */\n",
              ".sk-estimator-doc-link span {\n",
              "  display: none;\n",
              "  z-index: 9999;\n",
              "  position: relative;\n",
              "  font-weight: normal;\n",
              "  right: .2ex;\n",
              "  padding: .5ex;\n",
              "  margin: .5ex;\n",
              "  width: min-content;\n",
              "  min-width: 20ex;\n",
              "  max-width: 50ex;\n",
              "  color: var(--sklearn-color-text);\n",
              "  box-shadow: 2pt 2pt 4pt #999;\n",
              "  /* unfitted */\n",
              "  background: var(--sklearn-color-unfitted-level-0);\n",
              "  border: .5pt solid var(--sklearn-color-unfitted-level-3);\n",
              "}\n",
              "\n",
              ".sk-estimator-doc-link.fitted span {\n",
              "  /* fitted */\n",
              "  background: var(--sklearn-color-fitted-level-0);\n",
              "  border: var(--sklearn-color-fitted-level-3);\n",
              "}\n",
              "\n",
              ".sk-estimator-doc-link:hover span {\n",
              "  display: block;\n",
              "}\n",
              "\n",
              "/* \"?\"-specific style due to the `<a>` HTML tag */\n",
              "\n",
              "#sk-container-id-1 a.estimator_doc_link {\n",
              "  float: right;\n",
              "  font-size: 1rem;\n",
              "  line-height: 1em;\n",
              "  font-family: monospace;\n",
              "  background-color: var(--sklearn-color-background);\n",
              "  border-radius: 1rem;\n",
              "  height: 1rem;\n",
              "  width: 1rem;\n",
              "  text-decoration: none;\n",
              "  /* unfitted */\n",
              "  color: var(--sklearn-color-unfitted-level-1);\n",
              "  border: var(--sklearn-color-unfitted-level-1) 1pt solid;\n",
              "}\n",
              "\n",
              "#sk-container-id-1 a.estimator_doc_link.fitted {\n",
              "  /* fitted */\n",
              "  border: var(--sklearn-color-fitted-level-1) 1pt solid;\n",
              "  color: var(--sklearn-color-fitted-level-1);\n",
              "}\n",
              "\n",
              "/* On hover */\n",
              "#sk-container-id-1 a.estimator_doc_link:hover {\n",
              "  /* unfitted */\n",
              "  background-color: var(--sklearn-color-unfitted-level-3);\n",
              "  color: var(--sklearn-color-background);\n",
              "  text-decoration: none;\n",
              "}\n",
              "\n",
              "#sk-container-id-1 a.estimator_doc_link.fitted:hover {\n",
              "  /* fitted */\n",
              "  background-color: var(--sklearn-color-fitted-level-3);\n",
              "}\n",
              "</style><div id=\"sk-container-id-1\" class=\"sk-top-container\"><div class=\"sk-text-repr-fallback\"><pre>TPOTRegressor(generations=5, n_jobs=-1, population_size=50, random_state=42,\n",
              "              verbosity=2)</pre><b>In a Jupyter environment, please rerun this cell to show the HTML representation or trust the notebook. <br />On GitHub, the HTML representation is unable to render, please try loading this page with nbviewer.org.</b></div><div class=\"sk-container\" hidden><div class=\"sk-item\"><div class=\"sk-estimator fitted sk-toggleable\"><input class=\"sk-toggleable__control sk-hidden--visually\" id=\"sk-estimator-id-1\" type=\"checkbox\" checked><label for=\"sk-estimator-id-1\" class=\"sk-toggleable__label fitted sk-toggleable__label-arrow fitted\">&nbsp;TPOTRegressor<span class=\"sk-estimator-doc-link fitted\">i<span>Fitted</span></span></label><div class=\"sk-toggleable__content fitted\"><pre>TPOTRegressor(generations=5, n_jobs=-1, population_size=50, random_state=42,\n",
              "              verbosity=2)</pre></div> </div></div></div></div>"
            ]
          },
          "metadata": {},
          "execution_count": 43
        }
      ]
    },
    {
      "cell_type": "code",
      "source": [
        "print(\"Best pipeline steps:\\n\", tpot.fitted_pipeline_)\n",
        "print(\"\\nBest pipeline test score (R2):\", tpot.score(X_test, y_test))"
      ],
      "metadata": {
        "colab": {
          "base_uri": "https://localhost:8080/"
        },
        "id": "Y9KQA78wSIoD",
        "outputId": "228dfb0a-2f90-41cf-ad02-6f85aaacfc2a"
      },
      "execution_count": null,
      "outputs": [
        {
          "output_type": "stream",
          "name": "stdout",
          "text": [
            "Best pipeline steps:\n",
            " Pipeline(steps=[('minmaxscaler', MinMaxScaler()),\n",
            "                ('polynomialfeatures', PolynomialFeatures(include_bias=False)),\n",
            "                ('randomforestregressor',\n",
            "                 RandomForestRegressor(min_samples_leaf=5, min_samples_split=14,\n",
            "                                       random_state=42))])\n",
            "\n",
            "Best pipeline test score (R2): -5.908681190447565\n"
          ]
        }
      ]
    },
    {
      "cell_type": "code",
      "source": [
        "y_pred = tpot.predict(X_test)"
      ],
      "metadata": {
        "id": "0YbcXwqOSMlz"
      },
      "execution_count": null,
      "outputs": []
    },
    {
      "cell_type": "code",
      "source": [
        "mse = mean_squared_error(y_test, y_pred)\n",
        "rmse = np.sqrt(mse)\n",
        "mae = mean_absolute_error(y_test, y_pred)\n",
        "r2 = r2_score(y_test, y_pred)"
      ],
      "metadata": {
        "id": "W_P3HtHsSQUb"
      },
      "execution_count": null,
      "outputs": []
    },
    {
      "cell_type": "code",
      "source": [
        "print(\"\\n TPOT AutoML Performance:\")\n",
        "print(\"Mean Squared Error (MSE):\", mse)\n",
        "print(\"Root Mean Squared Error (RMSE):\", rmse)\n",
        "print(\"Mean Absolute Error (MAE):\", mae)\n",
        "print(\"R² Score:\", r2)"
      ],
      "metadata": {
        "colab": {
          "base_uri": "https://localhost:8080/"
        },
        "id": "dyk7LKHeSUZp",
        "outputId": "cc35183b-4693-43ff-cd30-a7e597bf49b3"
      },
      "execution_count": null,
      "outputs": [
        {
          "output_type": "stream",
          "name": "stdout",
          "text": [
            "\n",
            " TPOT AutoML Performance:\n",
            "Mean Squared Error (MSE): 5.908681190447565\n",
            "Root Mean Squared Error (RMSE): 2.4307778982143895\n",
            "Mean Absolute Error (MAE): 1.7609753090634586\n",
            "R² Score: 0.8842356255476217\n"
          ]
        }
      ]
    },
    {
      "cell_type": "code",
      "source": [
        "tpot.export('tpot_best_pipeline.py')"
      ],
      "metadata": {
        "id": "xuoo_oSaSWFB"
      },
      "execution_count": null,
      "outputs": []
    },
    {
      "cell_type": "code",
      "source": [
        "plt.figure(figsize=(8,6))\n",
        "plt.scatter(y_test, y_pred, alpha=0.7, color='teal')\n",
        "plt.plot([y.min(), y.max()], [y.min(), y.max()], 'r--')\n",
        "plt.xlabel('Actual MPG')\n",
        "plt.ylabel('Predicted MPG')\n",
        "plt.title('TPOT: Actual vs Predicted MPG')\n",
        "plt.grid(True)\n",
        "plt.tight_layout()\n",
        "plt.show()"
      ],
      "metadata": {
        "colab": {
          "base_uri": "https://localhost:8080/",
          "height": 601
        },
        "id": "YZDS7sokSX3s",
        "outputId": "1c7b76f4-11e8-4390-c717-7ead455a38d3"
      },
      "execution_count": null,
      "outputs": [
        {
          "output_type": "display_data",
          "data": {
            "text/plain": [
              "<Figure size 800x600 with 1 Axes>"
            ],
            "image/png": "[encoded data removed]"
          },
          "metadata": {}
        }
      ]
    }
  ]
}